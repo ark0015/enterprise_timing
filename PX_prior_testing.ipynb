{
 "cells": [
  {
   "cell_type": "code",
   "execution_count": 1,
   "metadata": {},
   "outputs": [],
   "source": [
    "%load_ext autoreload\n",
    "%autoreload 2"
   ]
  },
  {
   "cell_type": "code",
   "execution_count": 2,
   "metadata": {},
   "outputs": [],
   "source": [
    "import matplotlib.pyplot as plt\n",
    "import matplotlib as mpl\n",
    "from cycler import cycler\n",
    "%config InlineBackend.figure_format = 'retina'\n",
    "%matplotlib inline\n",
    "import numpy as np\n",
    "import scipy.stats as sps\n",
    "import json, pickle, os, corner, glob, sys\n",
    "from collections import defaultdict\n",
    "import enterprise.signals.utils as utils\n",
    "from enterprise.pulsar import Pulsar\n",
    "from collections import defaultdict\n",
    "import pandas as pd\n",
    "\n",
    "import enterprise\n",
    "from enterprise.pulsar import Pulsar\n",
    "from enterprise.signals import utils\n",
    "from enterprise.signals import parameter\n",
    "from enterprise.signals import white_signals\n",
    "from enterprise.signals import signal_base\n",
    "from enterprise.signals import selections\n",
    "\n",
    "from PTMCMCSampler.PTMCMCSampler import PTSampler as ptmcmc"
   ]
  },
  {
   "cell_type": "code",
   "execution_count": 3,
   "metadata": {},
   "outputs": [],
   "source": [
    "import pyne2001\n",
    "import scipy\n",
    "from scipy.stats import rv_continuous\n",
    "from astropy import units as u\n",
    "from astropy.coordinates import SkyCoord"
   ]
  },
  {
   "cell_type": "code",
   "execution_count": 4,
   "metadata": {},
   "outputs": [],
   "source": [
    "color_cycle_wong = ['#000000','#E69F00','#009E73','#56B4E9','#0072B2','#F0E442','#D55E00','#CC79A7']\n",
    "mpl.rcParams['axes.prop_cycle'] = cycler(color=color_cycle_wong)"
   ]
  },
  {
   "cell_type": "code",
   "execution_count": 5,
   "metadata": {},
   "outputs": [],
   "source": [
    "current_path = os.getcwd()\n",
    "splt_path = current_path.split(\"/\")\n",
    "#top_path_idx = splt_path.index(\"akaiser\")\n",
    "top_path_idx = splt_path.index(\"nanograv\")\n",
    "top_dir = \"/\".join(splt_path[0 : top_path_idx + 1])"
   ]
  },
  {
   "cell_type": "code",
   "execution_count": 6,
   "metadata": {},
   "outputs": [],
   "source": [
    "e_e_path = top_dir + \"/enterprise_extensions/\"\n",
    "sys.path.insert(0, e_e_path)\n",
    "sys.path.insert(0, top_dir + \"/enterprise_timing\")\n",
    "import nltm_plot_utils_v2 as nltm"
   ]
  },
  {
   "cell_type": "code",
   "execution_count": 7,
   "metadata": {},
   "outputs": [
    {
     "name": "stdout",
     "output_type": "stream",
     "text": [
      "/home/andrew/Documents/Research/nanograv/enterprise_timing/J1640+2224/chains/\n"
     ]
    }
   ],
   "source": [
    "psr_name = 'J1640+2224'#'J1640+2224'#'J2317+1439' 'J1909-3744'\n",
    "psr_dir = top_dir + '/enterprise_timing/{}/chains/'.format(psr_name)\n",
    "psrlist = [psr_name]\n",
    "datareleases = ['11yr','12p5yr']\n",
    "ephem = 'DE405'\n",
    "\n",
    "#psrs = nltm.get_psrs(psrlist,datareleases)\n",
    "#pardict = nltm.get_pardict(psrs,datareleases)\n",
    "print(psr_dir)"
   ]
  },
  {
   "cell_type": "code",
   "execution_count": 8,
   "metadata": {},
   "outputs": [],
   "source": [
    "datadir = top_dir + \"/5yr\"\n",
    "parfiles = sorted(glob.glob(datadir + \"/par/*_nltm.par\"))\n",
    "timfiles = sorted(glob.glob(datadir + \"/tim/*.tim\"))\n",
    "parfile = [pfile for pfile in parfiles if psr_name in pfile][0]\n",
    "timfile = [tfile for tfile in timfiles if psr_name in tfile][0]"
   ]
  },
  {
   "cell_type": "code",
   "execution_count": 9,
   "metadata": {},
   "outputs": [],
   "source": [
    "# filter\n",
    "is_psr = False\n",
    "if psr_name in parfile:\n",
    "    psr = Pulsar(parfile, timfile, ephem=ephem, clk=None, drop_t2pulsar=False)\n",
    "    is_psr = True\n",
    "\n",
    "if not is_psr:\n",
    "    raise ValueError(\n",
    "        \"does not exist in datarelease.\"\n",
    "    )"
   ]
  },
  {
   "cell_type": "code",
   "execution_count": 10,
   "metadata": {},
   "outputs": [
    {
     "name": "stdout",
     "output_type": "stream",
     "text": [
      "('RAJ', 'DECJ')\n",
      "[4.36454075 0.39099711]\n"
     ]
    }
   ],
   "source": [
    "print(psr.t2pulsar.pars()[0:2])\n",
    "print(psr.t2pulsar.vals()[0:2])"
   ]
  },
  {
   "cell_type": "code",
   "execution_count": 11,
   "metadata": {},
   "outputs": [],
   "source": [
    "def px_prior(px,dist,dist_err):\n",
    "    y = 1/(np.sqrt(2*np.pi)*dist_err*px**2)*np.exp(-(px**(-1)-dist)**2/(2*dist_err**2))\n",
    "    return y"
   ]
  },
  {
   "cell_type": "code",
   "execution_count": 12,
   "metadata": {},
   "outputs": [],
   "source": [
    "c = SkyCoord(ra='16:40:16.7435004', dec='22:24:08.94331', unit=(u.hourangle, u.deg))\n",
    "c_gal = c.transform_to('galactic')"
   ]
  },
  {
   "cell_type": "code",
   "execution_count": 13,
   "metadata": {},
   "outputs": [
    {
     "data": {
      "text/plain": [
       "41.05104415279213"
      ]
     },
     "execution_count": 13,
     "metadata": {},
     "output_type": "execute_result"
    }
   ],
   "source": [
    "c_gal.l.degree"
   ]
  },
  {
   "cell_type": "code",
   "execution_count": 14,
   "metadata": {},
   "outputs": [
    {
     "data": {
      "text/plain": [
       "1.16"
      ]
     },
     "execution_count": 14,
     "metadata": {},
     "output_type": "execute_result"
    }
   ],
   "source": [
    "dm_dist = pyne2001.get_dist(c_gal.l.degree,c_gal.b.degree,18.426)[0]\n",
    "dm_dist"
   ]
  },
  {
   "cell_type": "code",
   "execution_count": 15,
   "metadata": {},
   "outputs": [],
   "source": [
    "class NE2001DMDist_gen(rv_continuous):\n",
    "    \"Gaussian distribution\"\n",
    "    def _pdf(self,x, mu, sigma):\n",
    "        return (1/x**2)*scipy.stats.norm.pdf(x**-1,loc=mu,scale=sigma)"
   ]
  },
  {
   "cell_type": "code",
   "execution_count": 16,
   "metadata": {},
   "outputs": [],
   "source": [
    "tmp_diste = NE2001DMDist_gen(shapes='mu,sigma')"
   ]
  },
  {
   "cell_type": "code",
   "execution_count": 17,
   "metadata": {},
   "outputs": [
    {
     "data": {
      "text/plain": [
       "7.991870553452739e-07"
      ]
     },
     "execution_count": 17,
     "metadata": {},
     "output_type": "execute_result"
    }
   ],
   "source": [
    "tmp_diste.pdf(10,mu=1.0,sigma=.2)"
   ]
  },
  {
   "cell_type": "code",
   "execution_count": null,
   "metadata": {},
   "outputs": [],
   "source": [
    "tmp_diste.rvs(mu=1.0,sigma=.2,size=100)"
   ]
  },
  {
   "cell_type": "code",
   "execution_count": null,
   "metadata": {},
   "outputs": [],
   "source": [
    "tmp_burm=np.loadtxt('px_prior_1.txt')"
   ]
  },
  {
   "cell_type": "code",
   "execution_count": null,
   "metadata": {},
   "outputs": [],
   "source": [
    "with open('dist_pi.pkl','rb') as f:\n",
    "    caw = pickle.load(f)"
   ]
  },
  {
   "cell_type": "code",
   "execution_count": null,
   "metadata": {},
   "outputs": [],
   "source": [
    "print(min(tmp_burm))"
   ]
  },
  {
   "cell_type": "code",
   "execution_count": null,
   "metadata": {},
   "outputs": [],
   "source": [
    "new = np.linspace(-10,10,100)\n",
    "blur = caw.pdf(new)\n",
    "plt.plot(new,blur)\n",
    "plt.show()\n",
    "norm = np.trapz(blur,((new*(.2*dm_dist))**-1+dm_dist))\n",
    "plt.plot(((new*(.2*dm_dist))**-1+dm_dist),blur/norm)\n",
    "plt.show()"
   ]
  },
  {
   "cell_type": "code",
   "execution_count": null,
   "metadata": {},
   "outputs": [],
   "source": [
    "#tmp_dist = NE2001DMDistPrior(px,dm_dist,.2*dm_dist)\n",
    "px = np.linspace(1e-3,10,100)\n",
    "plt.plot(px,px_prior(px,dm_dist,.2*dm_dist))\n",
    "plt.plot(px,scipy.stats.norm.pdf(px**-1,loc=dm_dist,scale=.2*dm_dist)/px**2)\n",
    "plt.plot(px,tmp_diste.pdf(px,mu=dm_dist,sigma=.2*dm_dist))\n",
    "plt.plot((new*(.2*dm_dist)+dm_dist),blur/norm)\n",
    "plt.hist(tmp_burm,density=True,bins=100);\n",
    "plt.show()"
   ]
  },
  {
   "cell_type": "code",
   "execution_count": null,
   "metadata": {},
   "outputs": [],
   "source": [
    "px_hist = np.histogram(tmp_burm, bins=100, density=True)\n",
    "px_rv = sps.rv_histogram(px_hist)\n",
    "px_rv"
   ]
  },
  {
   "cell_type": "code",
   "execution_count": null,
   "metadata": {},
   "outputs": [],
   "source": [
    "#NE2001 DM Dist data prior.\n",
    "def NE2001DMDist_Prior(value):\n",
    "    \"\"\"Prior function for NE2001DMDist parameters.\"\"\"\n",
    "    return px_rv.pdf(value)\n",
    "\n",
    "def NE2001DMDist_Sampler(size=None):\n",
    "    \"\"\"Sampling function for NE2001DMDist parameters.\"\"\"\n",
    "    return px_rv.rvs(size=size)\n",
    "\n",
    "def NE2001DMDist_Parameter(size=None):\n",
    "    \"\"\"Class factory for NE2001DMDist parameters.\"\"\"\n",
    "    class NE2001DMDist_Parameter(parameter.Parameter):\n",
    "        _size = size\n",
    "        _typename = parameter._argrepr('NE2001DMDist')\n",
    "        _prior = parameter.Function(NE2001DMDist_Prior)\n",
    "        _sampler = staticmethod(NE2001DMDist_Sampler)\n",
    "\n",
    "    return NE2001DMDist_Parameter\n",
    "\n",
    "######## Scipy defined RV for NE2001 DM Dist data. ########\n",
    "data_file = './px_prior_1.txt'\n",
    "px_prior = np.loadtxt(data_file)\n",
    "px_hist = np.histogram(px_prior, bins=100, density=True)\n",
    "px_rv = sps.rv_histogram(px_hist)"
   ]
  },
  {
   "cell_type": "code",
   "execution_count": null,
   "metadata": {},
   "outputs": [],
   "source": [
    "class NE2001DMDist_rv_gen(rv_continuous):\n",
    "    \"Gaussian distribution\"\n",
    "    def _pdf(self,x, mu, sigma):\n",
    "        return (1/x**2)*scipy.stats.norm.pdf(x**-1,loc=mu,scale=sigma)\n",
    "    \n",
    "def NE2001DMDistPrior(value, mu=1., sigma=.2):\n",
    "    \"\"\"Prior function for DE2001 DMDistance parameters.\"\"\"\n",
    "    rv_dist = NE2001DMDist_gen(shapes='mu,sigma')\n",
    "    return rv_dist.pdf(value,mu,sigma)\n",
    "\n",
    "\n",
    "def NE2001DMDistSampler(mu=1., sigma=.2, size=None):\n",
    "    \"\"\"Sampling function for DE2001 DMDistance parameters.\"\"\"\n",
    "    rv_dist = NE2001DMDist_gen(shapes='mu,sigma')\n",
    "    return rv_dist.rvs(mu=mu,sigma=sigma,size=size)\n",
    "\n",
    "def NE2001DMDist(mu=1., sigma=.2, size=None):\n",
    "    \"\"\"Class factory for bounded Normal parameters.\"\"\"\n",
    "\n",
    "    class NE2001DMDist(parameter.Parameter):\n",
    "        _prior = parameter.Function(\n",
    "            NE2001DMDistPrior, mu=mu, sigma=sigma,\n",
    "        )\n",
    "        _sampler = staticmethod(NE2001DMDistSampler)\n",
    "        _size = size\n",
    "        _mu = mu\n",
    "        _sigma = sigma\n",
    "        _pmin = pmin\n",
    "        _pmax = pmax\n",
    "\n",
    "        def __repr__(self):\n",
    "            return \"{}: NE2001DMDist({},{}, [{},{}])\".format(\n",
    "                self.name, mu, sigma, pmin, pmax\n",
    "            ) + (\"\" if self._size is None else \"[{}]\".format(self._size))\n",
    "\n",
    "    return NE2001DMDist"
   ]
  },
  {
   "cell_type": "code",
   "execution_count": null,
   "metadata": {},
   "outputs": [],
   "source": []
  }
 ],
 "metadata": {
  "kernelspec": {
   "display_name": "Python 3",
   "language": "python",
   "name": "python3"
  },
  "language_info": {
   "codemirror_mode": {
    "name": "ipython",
    "version": 3
   },
   "file_extension": ".py",
   "mimetype": "text/x-python",
   "name": "python",
   "nbconvert_exporter": "python",
   "pygments_lexer": "ipython3",
   "version": "3.7.9"
  }
 },
 "nbformat": 4,
 "nbformat_minor": 4
}
