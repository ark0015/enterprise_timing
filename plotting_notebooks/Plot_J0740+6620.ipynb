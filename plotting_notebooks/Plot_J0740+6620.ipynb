{
 "cells": [
  {
   "cell_type": "code",
   "execution_count": 2,
   "metadata": {},
   "outputs": [],
   "source": [
    "%load_ext autoreload\n",
    "%autoreload 2"
   ]
  },
  {
   "cell_type": "code",
   "execution_count": 20,
   "metadata": {},
   "outputs": [],
   "source": [
    "import matplotlib.pyplot as plt\n",
    "import matplotlib as mpl\n",
    "from cycler import cycler\n",
    "%config InlineBackend.figure_format = 'retina'\n",
    "%matplotlib inline\n",
    "import numpy as np\n",
    "import scipy.stats as sps\n",
    "import json, pickle, os, corner, glob, sys\n",
    "import enterprise.signals.utils as utils\n",
    "from enterprise.pulsar import Pulsar\n",
    "import arviz as az\n",
    "from collections import defaultdict\n",
    "import pandas as pd"
   ]
  },
  {
   "cell_type": "code",
   "execution_count": 4,
   "metadata": {},
   "outputs": [],
   "source": [
    "import la_forge.diagnostics as dg\n",
    "import la_forge.core as co\n",
    "from la_forge.rednoise import plot_rednoise_spectrum, plot_free_spec\n",
    "from la_forge.utils import epoch_ave_resid"
   ]
  },
  {
   "cell_type": "code",
   "execution_count": 5,
   "metadata": {},
   "outputs": [],
   "source": [
    "color_cycle_wong = ['#000000','#E69F00','#009E73','#56B4E9','#0072B2','#F0E442','#D55E00','#CC79A7']\n",
    "mpl.rcParams['axes.prop_cycle'] = cycler(color=color_cycle_wong)"
   ]
  },
  {
   "cell_type": "code",
   "execution_count": 6,
   "metadata": {},
   "outputs": [],
   "source": [
    "current_path = os.getcwd()\n",
    "splt_path = current_path.split(\"/\")\n",
    "top_path_idx = splt_path.index(\"akaiser\")\n",
    "#top_path_idx = splt_path.index(\"nanograv\")\n",
    "top_dir = \"/\".join(splt_path[0 : top_path_idx + 1])"
   ]
  },
  {
   "cell_type": "code",
   "execution_count": 7,
   "metadata": {},
   "outputs": [],
   "source": [
    "e_e_path = top_dir + \"/enterprise_extensions/\"\n",
    "sys.path.insert(0, e_e_path)\n",
    "from enterprise_extensions.timing_2 import get_astrometric_priors\n",
    "import nltm_plot_utils_v2 as nltm"
   ]
  },
  {
   "cell_type": "code",
   "execution_count": 29,
   "metadata": {},
   "outputs": [],
   "source": [
    "psr_name = 'J0740+6620'#'J1640+2224'#'J2317+1439' 'J1909-3744'\n",
    "psr_dir = current_path + '/{}/chains/'.format(psr_name)\n",
    "psrlist = [psr_name]\n",
    "datareleases = ['11yr','12p5yr']\n",
    "\n",
    "with open(psr_dir+'12p5yr/orig_timing_pars.pkl', 'rb') as fin:\n",
    "    tm_params_orig = pickle.load(fin)\n",
    "#psrs = nltm.get_psrs(psrlist,datareleases)\n",
    "#pardict = nltm.get_pardict(psrs,datareleases)"
   ]
  },
  {
   "cell_type": "code",
   "execution_count": 30,
   "metadata": {},
   "outputs": [
    {
     "name": "stdout",
     "output_type": "stream",
     "text": [
      "ELONG :   (1.8109385467972050066, 2.1103251470945240098e-10)\n",
      "ELAT :   (0.76973350844883281496, 2.2311349392271817599e-10)\n",
      "F0 :   (346.53199647626473734, 3.5380642677468050184e-13)\n",
      "F1 :   (-1.4638934308892426497e-15, 9.2435572524311821995e-21)\n",
      "PMELONG :   (-2.7356846634113307637, 0.012142356227228930099)\n",
      "PMELAT :   (-32.48343129713580879, 0.018648345011703794383)\n",
      "PX :   (0.81384822250111943376, 0.14889809453013924667)\n",
      "SINI :   (0.9991467049877268414, 9.439620679985960788e-05)\n",
      "PB :   (4.7669446192854074695, 8.663503206659659445e-11)\n",
      "A1 :   (3.9775561438826598781, 8.404182888684216287e-08)\n",
      "PBDOT :   (9.694336924172837473e-13, 1.8324710937317905573e-13)\n",
      "TASC :   (57685.55769342061103, 1.4569614009629760555e-08)\n",
      "EPS1 :   (-5.6836442142772590543e-06, 2.2150268317828595291e-08)\n",
      "EPS2 :   (-1.844356373920329148e-06, 1.5256729094220466134e-08)\n",
      "M2 :   (0.24848467236967541893, 0.004228455950746962816)\n",
      "FD1 :   (-1.4449508042858721631e-05, 1.9009233344219203741e-07)\n",
      "DMX_0001 :   (-0.0009941889965953605059, 0.00015116651010461200203)\n",
      "DMX_0002 :   (-0.0009027047979007610289, 0.00011059603109779859455)\n",
      "DMX_0003 :   (-0.0006496903839638246787, 0.00010101809030514130887)\n",
      "DMX_0004 :   (-0.0008111980356541807335, 0.00014928690941220417246)\n",
      "DMX_0005 :   (-0.00068499640723510728853, 4.603091295346840319e-05)\n",
      "DMX_0006 :   (-0.00085586245587598863693, 0.00017887244126568003317)\n",
      "DMX_0007 :   (-0.000749047867352880788, 4.074919803999099428e-05)\n",
      "DMX_0008 :   (-0.0007455205269869959834, 7.257858505164124297e-05)\n",
      "DMX_0009 :   (-0.0006938847009133858974, 4.1868577277747942513e-05)\n",
      "DMX_0010 :   (-0.00070495514063629704377, 0.00010050479490776420392)\n",
      "DMX_0011 :   (-0.0010370188626269078499, 0.00016254766445148536983)\n",
      "DMX_0012 :   (-0.0007102353352493945759, 4.395444210539390615e-05)\n",
      "DMX_0013 :   (-0.00044365421866861612377, 0.00021176359534420813443)\n",
      "DMX_0014 :   (-0.0007191675237912000234, 4.645211420368652134e-05)\n",
      "DMX_0015 :   (-0.00089161650676957489477, 9.085922363562642088e-05)\n",
      "DMX_0016 :   (-0.0008255325233993015708, 0.00011479891597812296182)\n",
      "DMX_0017 :   (-0.00097158013657011957093, 0.00023995802709083838408)\n",
      "DMX_0018 :   (-0.00062639193756398024206, 6.563593423592592913e-05)\n",
      "DMX_0019 :   (-0.00066690710691730606657, 6.686317620660644839e-05)\n",
      "DMX_0020 :   (-0.0006133902468552446946, 5.800178786329169249e-05)\n",
      "DMX_0021 :   (-0.00076957508031480286684, 0.00013512196262991697728)\n",
      "DMX_0022 :   (-0.00037499660445929538719, 9.483613693661433527e-05)\n",
      "DMX_0023 :   (-0.00033654818026908925148, 0.0002319604591111810337)\n",
      "DMX_0024 :   (-0.0006212927797192044181, 0.00011734681222232315565)\n",
      "DMX_0025 :   (-0.00055380629139243904395, 3.2733538753889048693e-05)\n",
      "DMX_0026 :   (0.0012998797977637950064, 0.0006807364548709479105)\n",
      "DMX_0027 :   (-0.0006434511027327150922, 7.985644049019977877e-05)\n",
      "DMX_0028 :   (-0.00045924607645251734524, 8.828828105912893843e-05)\n",
      "DMX_0029 :   (-0.00050373576554017817936, 5.1265842375426829813e-05)\n",
      "DMX_0030 :   (-0.00057065809613065859255, 8.7828314272123936116e-05)\n",
      "DMX_0031 :   (-0.00036419443092347737875, 7.005686616469990896e-05)\n",
      "DMX_0032 :   (-0.00041924304180027843238, 6.821768990052527238e-05)\n",
      "DMX_0033 :   (-0.0004280366765685692551, 0.0001031094048760676545)\n",
      "DMX_0034 :   (-0.00035547603677231595556, 8.0038320534891497994e-05)\n",
      "DMX_0035 :   (-0.0003500786770478347661, 0.00011641975871853153519)\n",
      "DMX_0036 :   (-0.00046775832181519377264, 0.00010013038934081104766)\n",
      "DMX_0037 :   (-0.00041683321520948101238, 0.00013710831103368978671)\n",
      "DMX_0038 :   (-0.0003162711058118415153, 5.893193761364064724e-05)\n",
      "DMX_0039 :   (-0.0003092798077332224618, 4.1738502794903421648e-05)\n",
      "DMX_0040 :   (-0.0002869814225042072479, 3.581439955031375281e-05)\n",
      "DMX_0041 :   (-0.00013965942897868299202, 2.8176041943884640672e-05)\n",
      "DMX_0042 :   (-0.00015489265261667069956, 5.2617867563521356392e-05)\n",
      "DMX_0043 :   (-9.8780406499158931706e-05, 0.00011321739203951114883)\n",
      "DMX_0044 :   (-5.8852980699484394448e-05, 3.7407055917984072474e-05)\n",
      "DMX_0045 :   (-0.00021218505818638744602, 0.00019315426115115822163)\n",
      "DMX_0046 :   (-4.1134756158668120114e-05, 0.000120269118351628136274)\n",
      "DMX_0047 :   (-7.7245981088674259794e-05, 0.00014274115873569534507)\n",
      "DMX_0048 :   (1.9822249874791770825e-06, 8.2080433157389094006e-05)\n",
      "DMX_0049 :   (2.8327875347546500477e-05, 5.6707344893711644155e-05)\n",
      "DMX_0050 :   (4.203467784185145324e-05, 0.00011791437455153548088)\n",
      "DMX_0051 :   (0.0002589092366563939011, 3.275061106158996913e-05)\n",
      "DMX_0052 :   (6.547842297015995356e-05, 0.00020566459840078377347)\n",
      "DMX_0053 :   (0.00044422202422940215228, 0.00015539798747346623997)\n",
      "DMX_0054 :   (0.00046113320421150623017, 2.5484818877376421554e-05)\n",
      "DMX_0055 :   (0.00042560785705870291754, 6.0394991872438123998e-05)\n",
      "DMX_0056 :   (0.00062407424980912365193, 0.00016847026624881281023)\n",
      "DMX_0057 :   (0.0005322674625625102183, 4.7692935585875147002e-05)\n",
      "DMX_0058 :   (0.000429162009656126886, 0.00010262963372069936656)\n",
      "DMX_0059 :   (0.00027283227477266738022, 0.00022227388107289052692)\n",
      "DMX_0060 :   (0.0006584227542222216567, 3.1793418731536042944e-05)\n",
      "DMX_0061 :   (0.00078495955683237903823, 2.1964708510732459576e-05)\n",
      "DMX_0062 :   (0.0007391989295284915511, 2.589294175829476996e-05)\n",
      "DMX_0063 :   (0.0007297729452350106569, 7.5835611911161872225e-05)\n",
      "DMX_0064 :   (0.0007002326872616043566, 2.734949280710575323e-05)\n",
      "DMX_0065 :   (0.00095297254319619891395, 1.9036282792010679823e-05)\n",
      "DMX_0066 :   (0.0009737563240541801833, 4.2623168000074838316e-05)\n",
      "DMX_0067 :   (0.0009535287697335317241, 4.3017465342998162327e-05)\n",
      "DMX_0068 :   (0.0009271046729210679271, 2.8491790063512532601e-05)\n",
      "DMX_0069 :   (0.00096820947489131587316, 2.905583136691828301e-05)\n",
      "DMX_0070 :   (0.0009656213641933402564, 0.000116157888115623827725)\n",
      "DMX_0071 :   (0.0007737696440724579081, 2.3210202700957831826e-05)\n",
      "DMX_0072 :   (0.0007718037533680469249, 4.291463907764695877e-05)\n",
      "DMX_0073 :   (0.00086705903953401049916, 4.4826611618927928804e-05)\n",
      "DMX_0074 :   (0.00083311033765606919924, 1.8573452241289931753e-05)\n",
      "DMX_0075 :   (0.0007368480526414545803, 4.213843298483539284e-05)\n",
      "DMX_0076 :   (0.00080530484758404815345, 3.221384176312517769e-05)\n",
      "DMX_0077 :   (0.00086636271214551277726, 2.1544535738506738286e-05)\n",
      "DMX_0078 :   (0.0008221396579722470505, 3.1957474185458591338e-05)\n",
      "DMX_0079 :   (0.00088177512179517995947, 2.764132541574608221e-05)\n",
      "DMX_0080 :   (0.00097436105724027543065, 2.485973740820394387e-05)\n",
      "DMX_0081 :   (0.0009718442434636734035, 2.4407116553477130983e-05)\n",
      "DMX_0082 :   (0.0010072417210250244907, 3.0142366398184745402e-05)\n",
      "DMX_0083 :   (0.001211741958877417041, 2.0647531771419877874e-05)\n",
      "DMX_0084 :   (0.0012364379842250607794, 1.9501899944680881727e-05)\n",
      "DMX_0085 :   (0.0012692565798493105674, 2.7623669018657153948e-05)\n",
      "DMX_0086 :   (0.0012433795634138209915, 2.6094760771410919944e-05)\n",
      "DMX_0087 :   (0.001251104623293833925, 3.2757641680910648497e-05)\n",
      "DMX_0088 :   (0.0012923572121650004664, 3.444507037064448515e-05)\n",
      "DMX_0089 :   (0.0011988749992178577078, 3.9809297401376167707e-05)\n",
      "DMX_0090 :   (0.0012677632368355584193, 2.1632427374987896391e-05)\n",
      "DMX_0091 :   (0.0012354937664783797319, 0.00013381902164803752991)\n",
      "DMX_0092 :   (0.00083730095355168273306, 2.7571790083067919912e-05)\n",
      "DMX_0093 :   (0.0008492052978089383291, 4.3907984556312655827e-05)\n",
      "DMX_0094 :   (0.0009498864501376642769, 2.6576185681742918004e-05)\n",
      "DMX_0095 :   (0.0010451005500656219364, 2.2103610694575782133e-05)\n",
      "DMX_0096 :   (0.0013456022284502526347, 3.4739400955167864973e-05)\n",
      "DMX_0097 :   (0.0008965287117704021178, 4.421818851026354714e-05)\n",
      "DMX_0098 :   (0.0012345955942180573614, 2.1452816247885055404e-05)\n",
      "DMX_0099 :   (0.0012459162405562701232, 2.6806738197862531846e-05)\n",
      "DMX_0100 :   (0.00074591649330678984516, 4.3564375421852085182e-05)\n",
      "DMX_0101 :   (0.00084784932991396129605, 3.7238448026528601367e-05)\n",
      "DMX_0102 :   (0.00089221596161167800263, 5.9667243566676169547e-05)\n",
      "DMX_0103 :   (0.0008619866677922151041, 3.5156447541819772654e-05)\n",
      "DMX_0104 :   (0.00092499005695242453914, 9.257809493580262093e-05)\n",
      "DMX_0105 :   (0.000922962340782991714, 2.3610434925553131663e-05)\n",
      "DMX_0106 :   (0.00092038132427114211984, 2.0320732100614308187e-05)\n",
      "DMX_0107 :   (0.0009657480496654506771, 2.4344784467962566466e-05)\n",
      "DMX_0108 :   (0.0011889339306112313953, 2.6237923073152100986e-05)\n",
      "DMX_0109 :   (0.0012357724740728044492, 2.0364670104586742261e-05)\n",
      "DMX_0110 :   (0.0012229009413319866066, 3.28468681568223138e-05)\n",
      "DMX_0111 :   (0.0012783684335939361418, 4.205386121476011545e-05)\n",
      "DMX_0112 :   (0.00080237172830421128397, 2.7408010590952610182e-05)\n",
      "DMX_0113 :   (0.0009410042243944996771, 3.576460811044308944e-05)\n",
      "DMX_0114 :   (0.0012150663661428112716, 2.224084100900337177e-05)\n",
      "DMX_0115 :   (0.0012262442671617777585, 2.4834618766486629628e-05)\n",
      "DMX_0116 :   (0.0012562806497055348416, 3.86265828771448173e-05)\n",
      "DMX_0117 :   (0.0013718996791735630844, 8.0691806611158634044e-05)\n",
      "DMX_0118 :   (0.001334669929954184972, 4.3784426442947251782e-05)\n",
      "DMX_0119 :   (0.00077716701395597086784, 3.0734450769584115474e-05)\n",
      "DMX_0120 :   (0.00080652551593829913037, 2.9839193869490028256e-05)\n",
      "DMX_0121 :   (0.0007818821465513954962, 4.6333413007018855328e-05)\n",
      "DMX_0122 :   (0.00086007000746338515846, 2.3433383337207761916e-05)\n",
      "DMX_0123 :   (0.00093699001224165046845, 5.620623000417283605e-05)\n",
      "DMX_0124 :   (0.0012073186529890159169, 2.474835531120032019e-05)\n",
      "DMX_0125 :   (0.000747797321359326651, 3.7113138270575289277e-05)\n",
      "DMX_0126 :   (0.0009683708427581644426, 3.6025540469213452536e-05)\n",
      "DMX_0127 :   (0.0009678014508921851467, 5.170794293264632292e-05)\n",
      "DMX_0128 :   (0.0012307088715845710715, 2.4605317990608822676e-05)\n",
      "DMX_0129 :   (0.0012052627047962757249, 2.2492261028003825488e-05)\n",
      "DMX_0130 :   (0.0012104186151207937082, 3.3320104783744607807e-05)\n",
      "DMX_0131 :   (0.0013507816420293360625, 5.0764661573874483348e-05)\n",
      "DMX_0132 :   (0.00094577486387879871124, 2.8353903856606016632e-05)\n",
      "DMX_0133 :   (0.00091693562985775689533, 5.0532949139875117097e-05)\n",
      "DMX_0134 :   (0.0012563411510148289087, 2.6996879812794023784e-05)\n",
      "DMX_0135 :   (0.00095670718178259765534, 5.1416613242334757955e-05)\n",
      "DMX_0136 :   (0.0007472078371283211477, 5.6049058973917314055e-05)\n",
      "DMX_0137 :   (0.0010254452483135466367, 6.5642165012469772434e-05)\n",
      "DMX_0138 :   (0.001202130278115772638, 4.202168341841382317e-05)\n",
      "DMX_0139 :   (0.0012625969626667418386, 5.6831300448580279326e-05)\n",
      "DMX_0140 :   (0.0011913346963803581654, 9.2394304567702516414e-05)\n",
      "DMX_0141 :   (0.0011751958138161385826, 4.568877742042894277e-05)\n",
      "DMX_0142 :   (0.0010776107959793964405, 0.00017139741795443402773)\n",
      "DMX_0143 :   (0.0010889669249409333288, 4.5492936729704841513e-05)\n",
      "DMX_0144 :   (0.001031820516448293118, 3.544809635255627428e-05)\n",
      "DMX_0145 :   (0.001012349928017100293, 3.611586663013610502e-05)\n",
      "DMX_0146 :   (0.0010679576149027736852, 2.476097383332217917e-05)\n",
      "DMX_0147 :   (0.001077409718180799645, 2.8177314056666277536e-05)\n",
      "DMX_0148 :   (0.0011181571230361340638, 2.2148216043685933888e-05)\n",
      "DMX_0149 :   (0.0011588444950361904452, 9.128979319642940924e-05)\n",
      "DMX_0150 :   (0.001129993005809248191, 3.6169681149249172125e-05)\n",
      "DMX_0151 :   (0.0012067887974910390062, 3.2467623988234596783e-05)\n",
      "DMX_0152 :   (0.0012141692932149514197, 3.7636368460571112513e-05)\n",
      "DMX_0153 :   (0.0012047141413558989497, 4.796946051058238649e-05)\n",
      "DMX_0154 :   (0.0012604404242971900887, 2.7354098196781753168e-05)\n",
      "DMX_0155 :   (0.0011961596392945684792, 2.4868990200457520887e-05)\n",
      "DMX_0156 :   (0.0010214035971367228187, 2.7147888431414403886e-05)\n",
      "DMX_0157 :   (0.0010916560606350012366, 5.2342791413239136652e-05)\n",
      "DMX_0158 :   (0.0007020137981328821884, 0.0001408262936487708096)\n",
      "DMX_0159 :   (0.0011335796857464108377, 5.4827387238816454294e-05)\n",
      "DMX_0160 :   (0.001038034664390881899, 4.625105919428679609e-05)\n",
      "DMX_0161 :   (0.0010682716537503994959, 4.2906416371638893986e-05)\n",
      "DMX_0162 :   (0.0010345942859380763933, 4.0706804217419085635e-05)\n",
      "DMX_0163 :   (0.001073753004229021854, 3.1544620601828676895e-05)\n",
      "DMX_0164 :   (0.0010964463357584729435, 2.6292346255168521019e-05)\n",
      "DMX_0165 :   (0.00096240103742591663095, 5.115206066442296235e-05)\n",
      "DMX_0166 :   (0.0011909351394132851234, 4.0322651582434842262e-05)\n",
      "DMX_0167 :   (0.0011501187785264463219, 1.8851329345998782579e-05)\n",
      "DMX_0168 :   (0.0011011157185195428587, 2.5887931061653473056e-05)\n",
      "DMX_0169 :   (0.00115847133931206033, 3.6248556066464103942e-05)\n",
      "DMX_0170 :   (0.0012008517774767944915, 2.9218731835283431463e-05)\n",
      "DMX_0171 :   (0.0011662487832330252491, 2.3219223708293049255e-05)\n",
      "DMX_0172 :   (0.0012096755753879333793, 3.3872746536466037898e-05)\n",
      "DMX_0173 :   (0.0010725989885711725326, 0.00010144233374863174035)\n",
      "DMX_0174 :   (0.00097018088353632381347, 8.543341281380513268e-05)\n",
      "DMX_0175 :   (0.0010056360251983046707, 1.9900810974578705937e-05)\n",
      "DMX_0176 :   (0.0011613596734381221535, 1.9635869065948109626e-05)\n",
      "DMX_0177 :   (0.000791479866673165406, 0.000109518423525658734584)\n",
      "DMX_0178 :   (0.0011047074358639288449, 6.264113697687743055e-05)\n",
      "DMX_0179 :   (0.0010133927574848774524, 2.3089422388160549021e-05)\n",
      "DMX_0180 :   (0.0011430075553536442855, 9.072029115760373572e-05)\n",
      "DMX_0181 :   (0.00106775476799923991, 2.6244016180466442871e-05)\n",
      "DMX_0182 :   (0.0010115815681230432965, 2.553753976332914197e-05)\n",
      "DMX_0183 :   (0.0011064831643503691538, 7.050445029464041632e-05)\n",
      "DMX_0184 :   (0.0011329603612542317372, 2.9500174149038643534e-05)\n",
      "DMX_0185 :   (0.0011509853431681627087, 3.9365371573984166912e-05)\n",
      "DMX_0186 :   (0.0011950275993280923444, 5.341674869154379115e-05)\n",
      "DMX_0187 :   (0.001149028355942992817, 2.5846395717929977818e-05)\n",
      "DMX_0188 :   (0.0011652114758564134991, 4.1026152363540488758e-05)\n",
      "DMX_0189 :   (0.0011148165821181946038, 4.4560593117661640534e-05)\n",
      "DMX_0190 :   (0.0011934140732830366034, 2.5673953847275693272e-05)\n",
      "DMX_0191 :   (0.0005599220333557063502, 0.00013250791351647952664)\n",
      "DMX_0192 :   (0.0006403042967100241317, 3.1318141812838680882e-05)\n",
      "DMX_0193 :   (0.0006558840483047569201, 0.00012122853724429572106)\n",
      "DMX_0194 :   (0.00060052536765538365015, 0.0002583605847675997532)\n",
      "DMX_0195 :   (-2.3413455565101045123e-05, 0.00065437394145137126565)\n",
      "DMX_0196 :   (0.00059382660288983656754, 3.3593517193960376445e-05)\n",
      "DMX_0197 :   (0.00062705613798637164537, 3.4779299917364530433e-05)\n",
      "DMX_0198 :   (0.00047563060620732305287, 0.00024022011189443306435)\n",
      "DMX_0199 :   (0.0031289209937184233982, 0.002735959498058178948)\n",
      "DMX_0200 :   (0.00066987967214107658944, 6.0073975584507254824e-05)\n",
      "DMX_0201 :   (0.00034597075797984915696, 0.00018140979438497839495)\n",
      "DMX_0202 :   (0.00068936078882746794523, 3.183653023026684312e-05)\n",
      "DMX_0203 :   (0.0007451906976564434248, 7.193533405670286753e-05)\n",
      "DMX_0204 :   (0.0006239939366537259214, 0.0003659017470359519973)\n",
      "DMX_0205 :   (0.0016402738274756076004, 0.00038987526893677663335)\n",
      "DMX_0206 :   (0.00071265170323993212546, 4.9721643830460503092e-05)\n",
      "DMX_0207 :   (0.0009375483368441765372, 7.3646679702505006364e-05)\n",
      "DMX_0208 :   (0.0008050923033616154325, 0.00019346484361874481065)\n",
      "DMX_0209 :   (0.0008453830166205687519, 0.0007667393704845116729)\n",
      "DMX_0210 :   (-0.0004267933582802188792, 0.0017515643276705160965)\n",
      "DMX_0211 :   (0.00088514358743454308546, 6.025098850843181472e-05)\n",
      "DMX_0212 :   (0.0007267607138468945875, 7.899777120542425838e-05)\n",
      "DMX_0213 :   (0.00054544235006366461986, 0.00018624716049470992334)\n",
      "DMX_0214 :   (0.0008081900546470975827, 2.7694912250963716737e-05)\n",
      "DMX_0215 :   (0.00085574136786480885057, 5.9332381486059186887e-05)\n",
      "DMX_0216 :   (0.001005727880742588766, 0.00012283544030033410085)\n",
      "DMX_0217 :   (0.0010439340888472941563, 0.0001395236057214119241)\n",
      "DMX_0218 :   (0.00090079638190245425386, 2.1273177276349484983e-05)\n",
      "DMX_0219 :   (0.0009107000320901996026, 3.6718802084089009828e-05)\n",
      "DMX_0220 :   (0.00081343504117438545503, 0.0002713465826239152591)\n",
      "DMX_0221 :   (0.0011005337645408727783, 0.00017734391098154445791)\n",
      "DMX_0222 :   (0.0010550012451932488065, 4.0479314554408490706e-05)\n",
      "DMX_0223 :   (0.0010559638031031391529, 0.0002340457030966527842)\n",
      "DMX_0224 :   (0.0010749025667167006696, 9.38266665362004525e-05)\n",
      "DMX_0225 :   (0.0016137155540225580231, 0.00029150039257738312882)\n",
      "JUMP1 :   (-0.0012267030311994117555, 8.640291757840724723e-08)\n",
      "JUMP2 :   (-0.0015581163605266935834, 1.4209769412148152618e-07)\n"
     ]
    }
   ],
   "source": [
    "for ds in tm_params_orig.keys():\n",
    "    print(ds,\":  \",tm_params_orig[ds])"
   ]
  },
  {
   "cell_type": "code",
   "execution_count": 31,
   "metadata": {
    "scrolled": true
   },
   "outputs": [
    {
     "name": "stdout",
     "output_type": "stream",
     "text": [
      "/hyrule/data/users/akaiser/enterprise_timing/J0740+6620/chains/11yr/J0740+6620_uniform_DE436_tm_1\n",
      "/hyrule/data/users/akaiser/enterprise_timing/J0740+6620/chains/12p5yr/J0740+6620_uniform_DE436_tm_1\n",
      "/hyrule/data/users/akaiser/enterprise_timing/J0740+6620/chains/12p5yr/J0740+6620_uniform_DE436_nltm_ltm_1_core\n",
      "/hyrule/data/users/akaiser/enterprise_timing/J0740+6620/chains/12p5yr/J0740+6620_uniform_DE436_nltm_ltm_2_core\n",
      "/hyrule/data/users/akaiser/enterprise_timing/J0740+6620/chains/12p5yr/J0740+6620_uniform_DE436_nltm_ltm_4_core\n"
     ]
    }
   ],
   "source": [
    "chaindir_list = []\n",
    "#indices = np.arange(1,6,1)\n",
    "indices = [1,2]\n",
    "ephems = ['DE436']\n",
    "#big_chaindir = os.getcwd()+'/chains/{}_all_var'.format(psr)\n",
    "#chaindir_list.append(os.getcwd()+'/{}/chains/{}/{}_uniform_DE436_tm_{}'.format(psr_name,'11yr',psr_name,1))\n",
    "\n",
    "for i in indices:\n",
    "    for datarelease in datareleases:\n",
    "        if i == 1:\n",
    "            chaindir_list.append(psr_dir+'{}/{}_uniform_DE436_tm_{}'.format(datarelease,psr_name,i))\n",
    "        elif i == 2 and datarelease == '12p5yr':\n",
    "            chaindir_list.append(psr_dir+'{}/{}_uniform_DE436_nltm_ltm_1_core'.format(datarelease,psr_name))\n",
    "            chaindir_list.append(psr_dir+'{}/{}_uniform_DE436_nltm_ltm_2_core'.format(datarelease,psr_name))\n",
    "            chaindir_list.append(psr_dir+'{}/{}_uniform_DE436_nltm_ltm_4_core'.format(datarelease,psr_name))\n",
    "\n",
    "[print(chaindir) for chaindir in chaindir_list];"
   ]
  },
  {
   "cell_type": "code",
   "execution_count": 32,
   "metadata": {},
   "outputs": [],
   "source": [
    "chaindir_core_1 = psr_dir+'12p5yr/{}_uniform_DE436_nltm_ltm_1_core'.format(psr_name)\n",
    "chaindir_core_2 = psr_dir+'12p5yr/{}_uniform_DE436_nltm_ltm_2_core'.format(psr_name)\n",
    "chaindir_core_4 = psr_dir+'12p5yr/{}_uniform_DE436_nltm_ltm_4_core'.format(psr_name)"
   ]
  },
  {
   "cell_type": "code",
   "execution_count": 33,
   "metadata": {},
   "outputs": [
    {
     "name": "stdout",
     "output_type": "stream",
     "text": [
      "11yr J0740+6620_uniform_DE436_tm_1 Loaded.      \n",
      "12p5yr J0740+6620_uniform_DE436_tm_1 Loaded.      \n",
      "12p5yr J0740+6620_uniform_DE436_nltm_ltm_1_core Loaded.      \n",
      "12p5yr J0740+6620_uniform_DE436_nltm_ltm_2_core Loaded.      \n",
      "12p5yr J0740+6620_uniform_DE436_nltm_ltm_4_core Loaded.      \n"
     ]
    }
   ],
   "source": [
    "chain_dict = nltm.get_chain_tmparam_dict(chaindir_list)"
   ]
  },
  {
   "cell_type": "code",
   "execution_count": 34,
   "metadata": {},
   "outputs": [
    {
     "name": "stdout",
     "output_type": "stream",
     "text": [
      "uniform\n",
      "   parfile_priors_DE436\n",
      "     11yr\n",
      "       (71175, 53)\n",
      "     12p5yr\n",
      "       (38850, 72)\n",
      "       (8100, 258)\n",
      "       (7875, 258)\n",
      "       (7500, 258)\n"
     ]
    }
   ],
   "source": [
    "for p in chain_dict.keys():\n",
    "    print(p)\n",
    "    for px_p in chain_dict[p].keys():\n",
    "        print('  ',px_p)\n",
    "        for dset in chain_dict[p][px_p].keys():\n",
    "            print('    ',dset)\n",
    "            for subset in chain_dict[p][px_p][dset]['chains']:\n",
    "                print('      ',np.shape(subset))"
   ]
  },
  {
   "cell_type": "code",
   "execution_count": 35,
   "metadata": {},
   "outputs": [],
   "source": [
    "trimmed_chain_dict = nltm.get_trimmed_chain_tmparam_dict(chain_dict)"
   ]
  },
  {
   "cell_type": "code",
   "execution_count": 36,
   "metadata": {},
   "outputs": [
    {
     "name": "stdout",
     "output_type": "stream",
     "text": [
      "uniform\n",
      "   parfile_priors_DE436\n",
      "     11yr\n",
      "       (7500, 53)\n",
      "     12p5yr\n",
      "       (7500, 72)\n",
      "       (7500, 258)\n",
      "       (7500, 258)\n",
      "       (7500, 258)\n"
     ]
    }
   ],
   "source": [
    "for p in trimmed_chain_dict.keys():\n",
    "    print(p)\n",
    "    for px_p in trimmed_chain_dict[p].keys():\n",
    "        print('  ',px_p)\n",
    "        for dset in trimmed_chain_dict[p][px_p].keys():\n",
    "            print('    ',dset)\n",
    "            for subset in trimmed_chain_dict[p][px_p][dset]['chains']:\n",
    "                print('      ',np.shape(subset))"
   ]
  },
  {
   "cell_type": "markdown",
   "metadata": {},
   "source": [
    "# Make a List of `la_forge` Cores"
   ]
  },
  {
   "cell_type": "code",
   "execution_count": 37,
   "metadata": {
    "scrolled": true
   },
   "outputs": [
    {
     "name": "stdout",
     "output_type": "stream",
     "text": [
      "Appending PTMCMCSampler sampling parameters to end of parameter list.\n",
      "If unwanted please provide a parameter list.\n",
      "No burn specified. Burn set to 25% of chain length, 23725\n",
      "You may change the burn length with core.set_burn()\n",
      "Red noise frequencies must be set before plotting most red noise figures.\n",
      "Please use core.set_rn_freqs() to set, if needed.\n",
      "Appending PTMCMCSampler sampling parameters to end of parameter list.\n",
      "If unwanted please provide a parameter list.\n",
      "No burn specified. Burn set to 25% of chain length, 12950\n",
      "You may change the burn length with core.set_burn()\n",
      "Red noise frequencies must be set before plotting most red noise figures.\n",
      "Please use core.set_rn_freqs() to set, if needed.\n",
      "Appending PTMCMCSampler sampling parameters to end of parameter list.\n",
      "If unwanted please provide a parameter list.\n",
      "No burn specified. Burn set to 25% of chain length, 2700\n",
      "You may change the burn length with core.set_burn()\n",
      "Red noise frequencies must be set before plotting most red noise figures.\n",
      "Please use core.set_rn_freqs() to set, if needed.\n",
      "Appending PTMCMCSampler sampling parameters to end of parameter list.\n",
      "If unwanted please provide a parameter list.\n",
      "No burn specified. Burn set to 25% of chain length, 2625\n",
      "You may change the burn length with core.set_burn()\n",
      "Red noise frequencies must be set before plotting most red noise figures.\n",
      "Please use core.set_rn_freqs() to set, if needed.\n",
      "Appending PTMCMCSampler sampling parameters to end of parameter list.\n",
      "If unwanted please provide a parameter list.\n",
      "No burn specified. Burn set to 25% of chain length, 2500\n",
      "You may change the burn length with core.set_burn()\n",
      "Red noise frequencies must be set before plotting most red noise figures.\n",
      "Please use core.set_rn_freqs() to set, if needed.\n"
     ]
    }
   ],
   "source": [
    "core_list = []\n",
    "for chaindir in chaindir_list:\n",
    "    core_list.append(co.Core(label='_'.join(chaindir.split('/')[-2:]), chaindir=chaindir))"
   ]
  },
  {
   "cell_type": "markdown",
   "metadata": {},
   "source": [
    "```\n",
    "standard_chain = pd.read_csv(os.getcwd()+'/standard_runs/chain_1.txt', sep='\\t', dtype=float, header=None).values\n",
    "par_names = ['J1744-1134_Rcvr1_2_GASP_efac','J1744-1134_Rcvr1_2_GASP_log10_ecorr',\n",
    "             'J1744-1134_Rcvr1_2_GASP_log10_equad','J1744-1134_Rcvr1_2_GUPPI_efac',\n",
    "             'J1744-1134_Rcvr1_2_GUPPI_log10_ecorr', 'J1744-1134_Rcvr1_2_GUPPI_log10_equad',\n",
    "             'J1744-1134_Rcvr_800_GASP_efac', 'J1744-1134_Rcvr_800_GASP_log10_ecorr',\n",
    "             'J1744-1134_Rcvr_800_GASP_log10_equad', 'J1744-1134_Rcvr_800_GUPPI_efac',\n",
    "             'J1744-1134_Rcvr_800_GUPPI_log10_ecorr', 'J1744-1134_Rcvr_800_GUPPI_log10_equad',\n",
    "             'J1744-1134_red_noise_gamma', 'J1744-1134_red_noise_log10_A',\n",
    "             'lnlike', 'lnprior', 'chain_accept', 'pt_chain_accept']\n",
    "standard_cores = co.Core(label='standard runs',chain = standard_chain,params=par_names)\n",
    "```"
   ]
  },
  {
   "cell_type": "code",
   "execution_count": null,
   "metadata": {},
   "outputs": [],
   "source": [
    "dset = '11yr'\n",
    "por = 'uniform'\n",
    "px_por = 'parfile_priors_DE436'\n",
    "tmp_chaindir_indices = nltm.get_chaindir_indices(chaindir_list)\n",
    "print(tmp_chaindir_indices.keys())\n",
    "print(tmp_chaindir_indices[por].keys())\n",
    "print(tmp_chaindir_indices[por][px_por].keys())"
   ]
  },
  {
   "cell_type": "code",
   "execution_count": null,
   "metadata": {},
   "outputs": [],
   "source": [
    "#tmp_core_list.append(standard_cores)\n",
    "#tmp_core_labels.append('standard runs')\n",
    "tmp_core_common_pars = []\n",
    "tmp_core_noncommon_pars = []\n",
    "tmp_core_tm_pars = []\n",
    "\n",
    "for core in core_list:\n",
    "    if len(tmp_core_common_pars)==0:\n",
    "        for core_param in core.params:\n",
    "            if core_param not in ['lnlike','lnprior', 'chain_accept', 'pt_chain_accept', 'chain accept', 'pt chain accept']:\n",
    "                tmp_core_common_pars.append(core_param)\n",
    "            if 'timing' in core_param.split('_'):\n",
    "                tmp_core_tm_pars.append(core_param)\n",
    "    else:\n",
    "        noncommon_pars = []\n",
    "        for com_param in tmp_core_common_pars:\n",
    "            if com_param not in core.params:\n",
    "                noncommon_pars.append(com_param)\n",
    "        for ncom_param in noncommon_pars:\n",
    "            del tmp_core_common_pars[tmp_core_common_pars.index(ncom_param)]\n",
    "        for param in core.params:\n",
    "            if param not in tmp_core_common_pars:\n",
    "                tmp_core_noncommon_pars.append(param)"
   ]
  },
  {
   "cell_type": "code",
   "execution_count": null,
   "metadata": {},
   "outputs": [],
   "source": [
    "print(tmp_core_common_pars)\n",
    "print(tmp_core_noncommon_pars)"
   ]
  },
  {
   "cell_type": "code",
   "execution_count": null,
   "metadata": {},
   "outputs": [],
   "source": [
    "tmp_core_kwargs = {'hist':True, 'ncols':3, 'title_y':1.01,\n",
    "                   'hist_kwargs':dict(fill=False),'linewidth':3.}\n",
    "dg.plot_chains(core_list,\n",
    "               suptitle=psr_name,\n",
    "               pars = tmp_core_common_pars,\n",
    "               **tmp_core_kwargs)\n",
    "#,save='Figures/J1744_Noise_comp.png')"
   ]
  },
  {
   "cell_type": "markdown",
   "metadata": {},
   "source": [
    "```\n",
    "dataset='11yr'\n",
    "priors = ['uniform']\n",
    "px_priors = ['parfile_priors_DE436']\n",
    "dg.plot_chains(tmp_core_list[:-1],\n",
    "               suptitle='{} {} {} Runs Timing Parameters'.format(psrlist[0],dataset,px_priors[0]),\n",
    "               legend_labels=tmp_core_labels[:-1],\n",
    "               pars = tmp_core_tm_pars,linewidth=3.,\n",
    "               title_y=1.03,legend_loc=(.4,.8),ncols=2)\n",
    "#,save='Figures/J1744_tm_comp.png')\n",
    "```"
   ]
  },
  {
   "cell_type": "code",
   "execution_count": null,
   "metadata": {
    "scrolled": true
   },
   "outputs": [],
   "source": [
    "for tmp_core,tmp_chaindir in zip(core_list,chaindir_list):\n",
    "    dg.plot_chains(tmp_core,pars=['lnlike'],hist=False,\n",
    "                   suptitle=tmp_chaindir.split('/')[-1].split('_')[0]+' '+tmp_chaindir.split('/')[-2],\n",
    "                   ncols=1,title_y=1.05)"
   ]
  },
  {
   "cell_type": "code",
   "execution_count": null,
   "metadata": {},
   "outputs": [],
   "source": [
    "titles = []\n",
    "for param in tmp_core.params:\n",
    "    if 'timing' in param.split('_'):\n",
    "        if 'DMX' in param.split('_'):\n",
    "            titles.append(('_').join(param.split('_')[-2:]))\n",
    "        else:\n",
    "            titles.append(param.split('_')[-1])\n",
    "    else:\n",
    "        if psr_name in param.split('_'):\n",
    "            titles.append((' ').join(param.split('_')[1:]))\n",
    "        else:\n",
    "            titles.append(param)"
   ]
  },
  {
   "cell_type": "code",
   "execution_count": null,
   "metadata": {},
   "outputs": [],
   "source": [
    "print(titles)"
   ]
  },
  {
   "cell_type": "code",
   "execution_count": null,
   "metadata": {
    "scrolled": true
   },
   "outputs": [],
   "source": [
    "for tmp_core,tmp_chaindir in zip(core_list,chaindir_list):\n",
    "    titles = []\n",
    "    for param in tmp_core.params:\n",
    "        if 'timing' in param.split('_'):\n",
    "            if 'DMX' in param.split('_'):\n",
    "                titles.append(('_').join(param.split('_')[-2:]))\n",
    "            else:\n",
    "                titles.append(param.split('_')[-1])\n",
    "        else:\n",
    "            if psr_name in param.split('_'):\n",
    "                titles.append((' ').join(param.split('_')[1:]))\n",
    "            else:\n",
    "                titles.append(param)\n",
    "    print('/hyrule/data/users/akaiser/enterprise_timing/Figures/{}_{}_runs.png'.format(psr_name,tmp_chaindir.split('/')[-2]))\n",
    "    dg.plot_chains(tmp_core,pars=tmp_core.params,\n",
    "                   suptitle=tmp_chaindir.split('/')[-1].split('_')[0]+' '+tmp_chaindir.split('/')[-2],\n",
    "                   ncols=3,title_y=1.01,titles=titles,hist=True,\n",
    "                   save='/hyrule/data/users/akaiser/enterprise_timing/Figures/{}_{}_runs.png'.format(psr_name,tmp_chaindir.split('/')[-2]))"
   ]
  },
  {
   "cell_type": "markdown",
   "metadata": {},
   "source": [
    "# Plot Cores with `la_forge`"
   ]
  },
  {
   "cell_type": "code",
   "execution_count": null,
   "metadata": {},
   "outputs": [],
   "source": [
    "def plt_selection_of_dataset(dataset,px_prior='all'):\n",
    "    if px_prior == 'all':\n",
    "        selection = ['vlbi','parfile']\n",
    "    else:\n",
    "        selection = [px_prior]\n",
    "\n",
    "    core_kwargs = {'hist':True, 'ncols':3, 'title_y':1.01,\n",
    "                   'suptitle':'{} {} {} Runs'.format(psrlist[0],dataset,px_prior),\n",
    "                   'bins':10,'hist_kwargs':dict(fill=False),'linewidth':2.}\n",
    "                   #'save':'Figures/{}_{}_runs.png'.format(psrlist[0],dataset)}\n",
    "    misc_kwargs = {'legend_on':True,'legend_loc':(.7,0.05)}\n",
    "    priors = []\n",
    "    px_priors = []\n",
    "    for p in chain_dict.keys():\n",
    "        for px_p in chain_dict[p].keys():\n",
    "            for select in selection:\n",
    "                if select in px_p.split('_'):\n",
    "                    if dataset in chain_dict[p][px_p].keys():\n",
    "                        if p not in priors:\n",
    "                            priors.append(p)\n",
    "                        if px_p not in px_priors:\n",
    "                            px_priors.append(px_p)\n",
    "    if priors and px_priors:\n",
    "        nltm.plot_common_chains(core_list,chaindir_list,priors,px_priors,dataset,\n",
    "                                plot_kwargs=core_kwargs,misc_kwargs=misc_kwargs)\n",
    "    else:\n",
    "        print(selection,'not in',dataset)"
   ]
  },
  {
   "cell_type": "markdown",
   "metadata": {},
   "source": [
    "## 11yr Cores"
   ]
  },
  {
   "cell_type": "code",
   "execution_count": null,
   "metadata": {
    "scrolled": true
   },
   "outputs": [],
   "source": [
    "#All Runs\n",
    "plt_selection_of_dataset('11yr')"
   ]
  },
  {
   "cell_type": "markdown",
   "metadata": {},
   "source": [
    "## 12.5yr Cores"
   ]
  },
  {
   "cell_type": "code",
   "execution_count": null,
   "metadata": {
    "scrolled": true
   },
   "outputs": [],
   "source": [
    "#All Runs\n",
    "plt_selection_of_dataset('12p5yr')"
   ]
  },
  {
   "cell_type": "markdown",
   "metadata": {},
   "source": [
    "# Do Plotting with `arviz`\n",
    "Making `Arviz` dictionaries to plot all chains"
   ]
  },
  {
   "cell_type": "code",
   "execution_count": null,
   "metadata": {},
   "outputs": [],
   "source": [
    "az_comb,az_comb_chain_dict = nltm.get_combined_arviz_obj_from_dict(trimmed_chain_dict,psrs,return_dict=True)"
   ]
  },
  {
   "cell_type": "code",
   "execution_count": null,
   "metadata": {
    "scrolled": true
   },
   "outputs": [],
   "source": [
    "#print(az_comb.posterior)"
   ]
  },
  {
   "cell_type": "code",
   "execution_count": null,
   "metadata": {
    "scrolled": true
   },
   "outputs": [],
   "source": [
    "#az.summary(az_comb)"
   ]
  },
  {
   "cell_type": "code",
   "execution_count": null,
   "metadata": {},
   "outputs": [],
   "source": [
    "az.plot_trace(az_comb,plot_kwargs={'linewidth':3});"
   ]
  },
  {
   "cell_type": "code",
   "execution_count": null,
   "metadata": {},
   "outputs": [],
   "source": [
    "white_pars_all = []\n",
    "dmx_pars_all = []\n",
    "parfile_priors_pars_all = []\n",
    "for param in az_comb_chain_dict.keys():\n",
    "    if param not in ['lnlike','lnprior', 'chain accept', 'pt chain accept']:\n",
    "        if param.split('_')[-1] in ['efac','equad','ecorr']:\n",
    "            white_pars_all.append(param)\n",
    "        elif 'DMX' in param.split('_'):\n",
    "            dmx_pars_all.append(param)\n",
    "        else:\n",
    "            parfile_priors_pars_all.append(param)"
   ]
  },
  {
   "cell_type": "markdown",
   "metadata": {},
   "source": [
    "White noise parameters"
   ]
  },
  {
   "cell_type": "code",
   "execution_count": null,
   "metadata": {
    "scrolled": true
   },
   "outputs": [],
   "source": [
    "az.plot_trace(az_comb,var_names=white_pars_all,plot_kwargs={'linewidth':3});"
   ]
  },
  {
   "cell_type": "markdown",
   "metadata": {},
   "source": [
    "DMX Parameters"
   ]
  },
  {
   "cell_type": "code",
   "execution_count": null,
   "metadata": {},
   "outputs": [],
   "source": [
    "az.plot_trace(az_comb,var_names=dmx_pars_all,plot_kwargs={'linewidth':3});"
   ]
  },
  {
   "cell_type": "markdown",
   "metadata": {},
   "source": [
    "Red + Timing Parameters"
   ]
  },
  {
   "cell_type": "code",
   "execution_count": null,
   "metadata": {
    "scrolled": true
   },
   "outputs": [],
   "source": [
    "az.plot_trace(az_comb,var_names=parfile_priors_pars_all,plot_kwargs={'linewidth':3});"
   ]
  },
  {
   "cell_type": "markdown",
   "metadata": {},
   "source": [
    "# Rescaling the timing parameters to their physical values to properly compare datasets"
   ]
  },
  {
   "cell_type": "markdown",
   "metadata": {},
   "source": [
    "Have to split into datasets for variable WN\n",
    "Have to separate by number of parameters, then join"
   ]
  },
  {
   "cell_type": "code",
   "execution_count": null,
   "metadata": {},
   "outputs": [],
   "source": [
    "print(pardict)"
   ]
  },
  {
   "cell_type": "code",
   "execution_count": null,
   "metadata": {},
   "outputs": [],
   "source": [
    "rescaled_11yr_chain_dict_comb = nltm.get_combined_rescaled_chain_dict(trimmed_chain_dict,pardict,'11yr')\n",
    "az_comb_11yr_rescaled = az.convert_to_inference_data(rescaled_11yr_chain_dict_comb)"
   ]
  },
  {
   "cell_type": "code",
   "execution_count": null,
   "metadata": {},
   "outputs": [],
   "source": [
    "rescaled_11yr_core_list_comb = nltm.get_rescaled_chains_as_core_list(rescaled_11yr_chain_dict_comb,psr_name)\n",
    "eleven_yr_chaindirs = []\n",
    "for chaindir in chaindir_list:\n",
    "    if '11yr' in chaindir.split('/'):\n",
    "        eleven_yr_chaindirs.append(chaindir)"
   ]
  },
  {
   "cell_type": "code",
   "execution_count": null,
   "metadata": {},
   "outputs": [],
   "source": [
    "rescaled_12p5yr_chain_dict_comb = nltm.get_combined_rescaled_chain_dict(trimmed_chain_dict,pardict,'12p5yr')\n",
    "az_comb_12p5yr_rescaled = az.convert_to_inference_data(rescaled_12p5yr_chain_dict_comb)"
   ]
  },
  {
   "cell_type": "code",
   "execution_count": null,
   "metadata": {},
   "outputs": [],
   "source": [
    "rescaled_12p5yr_core_list_comb = nltm.get_rescaled_chains_as_core_list(rescaled_12p5yr_chain_dict_comb,psr_name)\n",
    "twelvep5_yr_chaindirs = []\n",
    "for chaindir in chaindir_list:\n",
    "    if '12p5yr' in chaindir.split('/'):\n",
    "        twelvep5_yr_chaindirs.append(chaindir)"
   ]
  },
  {
   "cell_type": "markdown",
   "metadata": {},
   "source": [
    "Combine the common parameters for the not donked up datasets"
   ]
  },
  {
   "cell_type": "code",
   "execution_count": null,
   "metadata": {},
   "outputs": [],
   "source": [
    "rescaled_chain_dict_all = {}\n",
    "for param in rescaled_5yr_chain_dict_comb.keys():\n",
    "    if param not in ['lnlike','lnprior', 'chain accept', 'pt chain accept']:\n",
    "        if param in rescaled_9yr_chain_dict_comb.keys():\n",
    "            if param in rescaled_chain_dict_all.keys():\n",
    "                rescaled_chain_dict_all[param] = np.concatenate((rescaled_chain_dict_all[param],\n",
    "                                                                 rescaled_9yr_chain_dict_comb[param]),axis=0)\n",
    "            else:\n",
    "                rescaled_chain_dict_all[param] = np.concatenate((rescaled_5yr_chain_dict_comb[param],\n",
    "                                                                 rescaled_9yr_chain_dict_comb[param]),axis=0)\n",
    "        if param in rescaled_11yr_chain_dict_comb.keys():\n",
    "            if param in rescaled_chain_dict_all.keys():\n",
    "                rescaled_chain_dict_all[param] = np.concatenate((rescaled_chain_dict_all[param],\n",
    "                                                                 rescaled_11yr_chain_dict_comb[param]),axis=0)\n",
    "            else:\n",
    "                rescaled_chain_dict_all[param] = np.concatenate((rescaled_5yr_chain_dict_comb[param],\n",
    "                                                                  rescaled_11yr_chain_dict_comb[param]),axis=0)\n",
    "        if param in rescaled_12p5yr_chain_dict_comb.keys():\n",
    "            if param in rescaled_chain_dict_all.keys():\n",
    "                rescaled_chain_dict_all[param] = np.concatenate((rescaled_chain_dict_all[param],\n",
    "                                                                 rescaled_12p5yr_chain_dict_comb[param]),axis=0)\n",
    "            else:\n",
    "                rescaled_chain_dict_all[param] = np.concatenate((rescaled_5yr_chain_dict_comb[param],\n",
    "                                                                  rescaled_12p5yr_chain_dict_comb[param]),axis=0)"
   ]
  },
  {
   "cell_type": "code",
   "execution_count": null,
   "metadata": {},
   "outputs": [],
   "source": [
    "#az.summary(az_comb_5yr_rescaled)"
   ]
  },
  {
   "cell_type": "code",
   "execution_count": null,
   "metadata": {},
   "outputs": [],
   "source": [
    "#az.summary(az_comb_9yr_rescaled)"
   ]
  },
  {
   "cell_type": "code",
   "execution_count": null,
   "metadata": {},
   "outputs": [],
   "source": [
    "def plt_all_rescaled_dataset(core_list,chaindir_list,dataset):\n",
    "    core_kwargs = {'hist':True, 'ncols':4, 'title_y':1.03,\n",
    "               'suptitle':'{} {} All Runs'.format(psrlist[0],dataset),\n",
    "               'bins':10,'hist_kwargs':dict(fill=False),'linewidth':2.}\n",
    "    misc_kwargs = {'legend_on':True,'legend_loc':(.7,0.05)}\n",
    "    priors = []\n",
    "    px_priors = []\n",
    "    for p in chain_dict.keys():\n",
    "        for px_p in chain_dict[p].keys():\n",
    "            if dataset in chain_dict[p][px_p].keys():\n",
    "                if p not in priors:\n",
    "                    priors.append(p)\n",
    "                if px_p not in px_priors:\n",
    "                    px_priors.append(px_p)\n",
    "    if priors and px_priors:\n",
    "        nltm.plot_common_chains(core_list,chaindir_list,priors,px_priors,dataset,\n",
    "                                plot_kwargs=core_kwargs,misc_kwargs=misc_kwargs)\n",
    "    else:\n",
    "        print(selection,'not in',dataset)"
   ]
  },
  {
   "cell_type": "markdown",
   "metadata": {},
   "source": [
    "## 5yr Plots\n",
    "\n",
    "`la_forge` plots, then `arviz`"
   ]
  },
  {
   "cell_type": "code",
   "execution_count": null,
   "metadata": {
    "scrolled": true
   },
   "outputs": [],
   "source": [
    "#All Runs\n",
    "plt_all_rescaled_dataset(rescaled_5yr_core_list_comb,five_yr_chaindirs,'5yr')"
   ]
  },
  {
   "cell_type": "code",
   "execution_count": null,
   "metadata": {},
   "outputs": [],
   "source": [
    "white_pars_5yr = []\n",
    "parfile_priors_pars_5yr = []\n",
    "for param in rescaled_5yr_chain_dict_comb.keys():\n",
    "    if param not in ['lnlike','lnprior', 'chain accept', 'pt chain accept']:\n",
    "        if param.split('_')[-1] in ['efac','equad','ecorr']:\n",
    "            white_pars_5yr.append(param)\n",
    "        else:\n",
    "            parfile_priors_pars_5yr.append(param)"
   ]
  },
  {
   "cell_type": "markdown",
   "metadata": {},
   "source": [
    "White Noise Parameters"
   ]
  },
  {
   "cell_type": "code",
   "execution_count": null,
   "metadata": {
    "scrolled": true
   },
   "outputs": [],
   "source": [
    "az.plot_trace(az_comb_5yr_rescaled,var_names=white_pars_5yr,plot_kwargs={'linewidth':3});"
   ]
  },
  {
   "cell_type": "markdown",
   "metadata": {},
   "source": [
    "Red + Timing Parameters"
   ]
  },
  {
   "cell_type": "code",
   "execution_count": null,
   "metadata": {
    "scrolled": true
   },
   "outputs": [],
   "source": [
    "az.plot_trace(az_comb_5yr_rescaled,var_names=parfile_priors_pars_5yr,plot_kwargs={'linewidth':3});"
   ]
  },
  {
   "cell_type": "markdown",
   "metadata": {},
   "source": [
    "## 9yr Plots\n",
    "\n",
    "`la_forge` plots, then `arviz`"
   ]
  },
  {
   "cell_type": "code",
   "execution_count": null,
   "metadata": {
    "scrolled": true
   },
   "outputs": [],
   "source": [
    "#All Runs\n",
    "plt_all_rescaled_dataset(rescaled_9yr_core_list_comb,nine_yr_chaindirs,'9yr')"
   ]
  },
  {
   "cell_type": "code",
   "execution_count": null,
   "metadata": {},
   "outputs": [],
   "source": [
    "white_pars_9yr = []\n",
    "parfile_priors_pars_9yr = []\n",
    "for param in rescaled_9yr_chain_dict_comb.keys():\n",
    "    if param not in ['lnlike','lnprior', 'chain accept', 'pt chain accept']:\n",
    "        if param.split('_')[-1] in ['efac','equad','ecorr']:\n",
    "            white_pars_9yr.append(param)\n",
    "        else:\n",
    "            parfile_priors_pars_9yr.append(param)"
   ]
  },
  {
   "cell_type": "markdown",
   "metadata": {},
   "source": [
    "White noise parameters"
   ]
  },
  {
   "cell_type": "code",
   "execution_count": null,
   "metadata": {
    "scrolled": true
   },
   "outputs": [],
   "source": [
    "az.plot_trace(az_comb_9yr_rescaled,var_names=white_pars_9yr,plot_kwargs={'linewidth':3});"
   ]
  },
  {
   "cell_type": "markdown",
   "metadata": {},
   "source": [
    "Red + Timing Parameters\n"
   ]
  },
  {
   "cell_type": "code",
   "execution_count": null,
   "metadata": {
    "scrolled": true
   },
   "outputs": [],
   "source": [
    "az.plot_trace(az_comb_9yr_rescaled,var_names=parfile_priors_pars_9yr,plot_kwargs={'linewidth':3});"
   ]
  },
  {
   "cell_type": "markdown",
   "metadata": {},
   "source": [
    "## 11yr Plots\n",
    "\n",
    "`la_forge` plots, then `arviz`"
   ]
  },
  {
   "cell_type": "code",
   "execution_count": null,
   "metadata": {
    "scrolled": false
   },
   "outputs": [],
   "source": [
    "#All Runs\n",
    "plt_all_rescaled_dataset(rescaled_11yr_core_list_comb,eleven_yr_chaindirs,'11yr')"
   ]
  },
  {
   "cell_type": "code",
   "execution_count": null,
   "metadata": {},
   "outputs": [],
   "source": [
    "white_pars_11yr = []\n",
    "parfile_priors_pars_11yr = []\n",
    "for param in rescaled_11yr_chain_dict_comb.keys():\n",
    "    if param not in ['lnlike','lnprior', 'chain accept', 'pt chain accept']:\n",
    "        if param.split('_')[-1] in ['efac','equad','ecorr']:\n",
    "            white_pars_11yr.append(param)\n",
    "        else:\n",
    "            parfile_priors_pars_11yr.append(param)"
   ]
  },
  {
   "cell_type": "markdown",
   "metadata": {},
   "source": [
    "White noise parameters"
   ]
  },
  {
   "cell_type": "code",
   "execution_count": null,
   "metadata": {
    "scrolled": true
   },
   "outputs": [],
   "source": [
    "az.plot_trace(az_comb_11yr_rescaled,var_names=white_pars_11yr,plot_kwargs={'linewidth':3});"
   ]
  },
  {
   "cell_type": "markdown",
   "metadata": {},
   "source": [
    "Red + Timing Parameters"
   ]
  },
  {
   "cell_type": "code",
   "execution_count": null,
   "metadata": {
    "scrolled": true
   },
   "outputs": [],
   "source": [
    "az.plot_trace(az_comb_11yr_rescaled,var_names=parfile_priors_pars_11yr,plot_kwargs={'linewidth':3});"
   ]
  },
  {
   "cell_type": "markdown",
   "metadata": {},
   "source": [
    "## 12.5yr Plots\n",
    "\n",
    "`la_forge` plots, then `arviz`"
   ]
  },
  {
   "cell_type": "code",
   "execution_count": null,
   "metadata": {
    "scrolled": true
   },
   "outputs": [],
   "source": [
    "#All Runs\n",
    "plt_all_rescaled_dataset(rescaled_12p5yr_core_list_comb,twelvep5_yr_chaindirs,'12p5yr')"
   ]
  },
  {
   "cell_type": "code",
   "execution_count": null,
   "metadata": {},
   "outputs": [],
   "source": [
    "white_pars_12p5yr = []\n",
    "parfile_priors_pars_12p5yr = []\n",
    "for param in rescaled_12p5yr_chain_dict_comb.keys():\n",
    "    if param not in ['lnlike','lnprior', 'chain accept', 'pt chain accept']:\n",
    "        if param.split('_')[-1] in ['efac','equad','ecorr']:\n",
    "            white_pars_12p5yr.append(param)\n",
    "        else:\n",
    "            parfile_priors_pars_12p5yr.append(param)"
   ]
  },
  {
   "cell_type": "markdown",
   "metadata": {},
   "source": [
    "White noise parameters"
   ]
  },
  {
   "cell_type": "code",
   "execution_count": null,
   "metadata": {
    "scrolled": true
   },
   "outputs": [],
   "source": [
    "az.plot_trace(az_comb_11yr_rescaled,var_names=white_pars_11yr,plot_kwargs={'linewidth':3});"
   ]
  },
  {
   "cell_type": "markdown",
   "metadata": {},
   "source": [
    "Red + Timing Parameters"
   ]
  },
  {
   "cell_type": "code",
   "execution_count": null,
   "metadata": {
    "scrolled": true
   },
   "outputs": [],
   "source": [
    "az.plot_trace(az_comb_11yr_rescaled,var_names=parfile_priors_pars_11yr,plot_kwargs={'linewidth':3});"
   ]
  },
  {
   "cell_type": "markdown",
   "metadata": {},
   "source": [
    "## Combined All Plots"
   ]
  },
  {
   "cell_type": "code",
   "execution_count": null,
   "metadata": {
    "scrolled": true
   },
   "outputs": [],
   "source": [
    "az.plot_trace(rescaled_chain_dict_all,legend=True,figsize=(15,2*len(rescaled_chain_dict_all.keys())),\n",
    "             plot_kwargs={'linewidth':3});"
   ]
  },
  {
   "cell_type": "code",
   "execution_count": null,
   "metadata": {},
   "outputs": [],
   "source": [
    "#All Runs\n",
    "core_kwargs = {'hist':True, 'ncols':4, 'title_y':1.03,\n",
    "               'suptitle':'{} Combined 5yr+9yr+11yr All Runs'.format(psrlist[0]),\n",
    "               'bins':10,'hist_kwargs':dict(fill=False),'linewidth':2.}\n",
    "misc_kwargs = {'legend_on':True,'legend_loc':(.55,.2)}\n",
    "\n",
    "datasets = ['5yr','9yr','11yr','12p']\n",
    "priors = []\n",
    "px_priors = []\n",
    "for p in chain_dict.keys():\n",
    "    for px_p in chain_dict[p].keys():\n",
    "        for dataset in datasets:\n",
    "            if dataset in chain_dict[p][px_p].keys():\n",
    "                if p not in priors:\n",
    "                    priors.append(p)\n",
    "                if px_p not in px_priors:\n",
    "                    px_priors.append(px_p)\n",
    "\n",
    "nltm.plot_common_chains((rescaled_5yr_core_list_comb + rescaled_9yr_core_list_comb + \\\n",
    "                         rescaled_11yr_core_list_comb + rescaled_12p5yr_core_list_comb),\n",
    "                        (five_yr_chaindirs+nine_yr_chaindirs+eleven_yr_chaindirs+twelvep5_yr_chaindirs),\n",
    "                        priors,px_priors,datasets,\n",
    "                        plot_kwargs=core_kwargs,misc_kwargs=misc_kwargs)"
   ]
  },
  {
   "cell_type": "markdown",
   "metadata": {},
   "source": [
    "# PX Only"
   ]
  },
  {
   "cell_type": "code",
   "execution_count": null,
   "metadata": {},
   "outputs": [],
   "source": [
    "tmp = rescaled_5yr_core_list_comb + rescaled_9yr_core_list_comb +\\\n",
    "rescaled_11yr_core_list_comb + rescaled_12p5yr_core_list_comb\n",
    "px_array = []\n",
    "for tmp_core in tmp:\n",
    "    px_array.append(tmp_core.get_param('PX',to_burn=False))"
   ]
  },
  {
   "cell_type": "code",
   "execution_count": null,
   "metadata": {},
   "outputs": [],
   "source": [
    "mus = []\n",
    "lb = []\n",
    "ub = []\n",
    "for dataset in pardict.keys():\n",
    "    for parvals in pardict[dataset].values():\n",
    "        mus.append(parvals['PX']['val'])\n",
    "        lb.append(parvals['PX']['val']-parvals['PX']['val']*parvals['PX']['err'])\n",
    "        ub.append(parvals['PX']['val']+parvals['PX']['val']*parvals['PX']['err'])"
   ]
  },
  {
   "cell_type": "code",
   "execution_count": null,
   "metadata": {},
   "outputs": [],
   "source": [
    "fig,ax = plt.subplots(1,1,figsize=(15,7.5))\n",
    "hist_kwargs = {'fill':False,'bins':20,'linewidth':3.,'density':True,'histtype':'step'}\n",
    "legend_list = ['5yr: Uniform, Parfile Priors','5yr: Bounded Normal, Parfile Priors',\n",
    "               '9yr: Uniform, Parfile Priors','9yr: Bounded Normal, Parfile Priors',\n",
    "               '11yr: Uniform, Parfile Priors','11yr: Bounded Normal, Parfile Priors']\n",
    "\n",
    "for i,px in enumerate(px_array):\n",
    "    hist_kwargs['Color'] = 'C{}'.format(i)\n",
    "    #hist_kwargs['label'] = legend_list[i]\n",
    "    ax.hist(px,**hist_kwargs);\n",
    "\n",
    "legend_list_2 = ['5yr Parfile PX','9yr Parfile PX','11yr Parfile PX','12.5yr Parfile PX']\n",
    "for i,mu in enumerate(mus):\n",
    "    ax.axvline(x=mu,linestyle='--',linewidth=3,color='C{}'.format(i),label=legend_list_2[i]+': %.3f' %mu)\n",
    "ax.set_xlabel(r'Parallax (mas)',fontsize=18)\n",
    "plt.title('{} Parallax Comparison of 5yr, 9yr, 11yr, and 12.5yr Runs'.format(psrlist[0]))\n",
    "plt.legend()#loc=(.48,.7))\n",
    "#plt.savefig('./Figures/{}_px_comp.png'.format(psrlist[0]),dpi=300,bbox_inches='tight')\n",
    "plt.show()"
   ]
  },
  {
   "cell_type": "code",
   "execution_count": null,
   "metadata": {},
   "outputs": [],
   "source": []
  },
  {
   "cell_type": "code",
   "execution_count": null,
   "metadata": {},
   "outputs": [],
   "source": []
  }
 ],
 "metadata": {
  "kernelspec": {
   "display_name": "Python 3",
   "language": "python",
   "name": "python3"
  },
  "language_info": {
   "codemirror_mode": {
    "name": "ipython",
    "version": 3
   },
   "file_extension": ".py",
   "mimetype": "text/x-python",
   "name": "python",
   "nbconvert_exporter": "python",
   "pygments_lexer": "ipython3",
   "version": "3.8.3"
  }
 },
 "nbformat": 4,
 "nbformat_minor": 2
}
