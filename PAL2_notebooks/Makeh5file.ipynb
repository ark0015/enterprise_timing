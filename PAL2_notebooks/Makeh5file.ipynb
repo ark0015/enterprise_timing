{
 "cells": [
  {
   "cell_type": "code",
   "execution_count": 1,
   "metadata": {},
   "outputs": [],
   "source": [
    "%load_ext autoreload\n",
    "%autoreload 2"
   ]
  },
  {
   "cell_type": "code",
   "execution_count": 2,
   "metadata": {},
   "outputs": [],
   "source": [
    "pulsar = 'J0340+4130'#'J0340+4130'#J1640+2224, J2043+1711\n",
    "#pardir= \"/home/andrew/Documents/Research/nanograv/enterprise_timing/J1640+2224/Fonseca_PAL2/J1640+2224/m2sini\" \n",
    "#timdir= \"/home/andrew/Documents/Research/nanograv/enterprise_timing/J1640+2224/Fonseca_PAL2/J1640+2224/m2sini\"\n",
    "#h5File=\"./J1640+2224_h5file.hdf5\"\n",
    "pardir= \"/home/andrew/Documents/Research/nanograv/enterprise_timing/{}/ark_PAL2/\".format(pulsar)\n",
    "timdir= \"/home/andrew/Documents/Research/nanograv/enterprise_timing/{}/ark_PAL2/\".format(pulsar)\n",
    "h5File= \"/home/andrew/Documents/Research/nanograv/enterprise_timing/{}/ark_PAL2/{}_h5file.hdf5\".format(pulsar,pulsar)\n",
    "makeH5file_loc = \"/home/andrew/Documents/Research/nanograv/PAL2/PAL2/makeH5file.py\""
   ]
  },
  {
   "cell_type": "code",
   "execution_count": 3,
   "metadata": {},
   "outputs": [
    {
     "name": "stdout",
     "output_type": "stream",
     "text": [
      "\n",
      "/home/andrew/Documents/Research/nanograv/enterprise_timing/J0340+4130/ark_PAL2/J0340+4130_NANOGrav_9yv1.tim /home/andrew/Documents/Research/nanograv/enterprise_timing/J0340+4130/ark_PAL2/J0340+4130_NANOGrav_9yv1.gls.par \n",
      "\n",
      "\u001b[0m\u001b[1m[tempo2Util.C:396] \u001b[0m\u001b[0;35mWarning: \u001b[0m[MISC1] Unknown parameter in par file:  DMX\n",
      "\u001b[0m\u001b[1m[tempo2Util.C:401] \u001b[0m\u001b[0;35mWarning: \u001b[0m[DUP1] duplicated warnings have been suppressed.\n",
      "\u001b[0m\u001b[1m[tempo2Util.C:396] \u001b[0m\u001b[0;35mWarning: \u001b[0m[PAR1] Have not set a position epoch. The period epoch will be used instead. J0340+4130_NANOGrav_9yv1.gls.par\n",
      "\u001b[0m\u001b[1m[tempo2Util.C:396] \u001b[0m\u001b[0;35mWarning: \u001b[0m[PAR2] Have not set a DM epoch. The period epoch will be used instead. J0340+4130_NANOGrav_9yv1.gls.par\n",
      "\u001b[0m\u001b[1m[tempo2Util.C:396] \u001b[0m\u001b[0;35mWarning: \u001b[0m[TIM1] Please place MODE flags in the parameter file \n",
      "ducks 2!\n",
      "/home/andrew/Documents/Research/nanograv/enterprise_timing/residual_checking/PAL2_t2_desmat.npz\n",
      "WARNING: Could not find pulsar distance for PSR J0340+4130. Setting value to 1 with 20% uncertainty\n"
     ]
    }
   ],
   "source": [
    "!python {makeH5file_loc} --pardir {pardir} --timdir {timdir} --h5File {h5File} --ephem 'DE421'"
   ]
  },
  {
   "cell_type": "code",
   "execution_count": null,
   "metadata": {},
   "outputs": [],
   "source": []
  }
 ],
 "metadata": {
  "kernelspec": {
   "display_name": "Python 2",
   "language": "python",
   "name": "python2"
  },
  "language_info": {
   "codemirror_mode": {
    "name": "ipython",
    "version": 2
   },
   "file_extension": ".py",
   "mimetype": "text/x-python",
   "name": "python",
   "nbconvert_exporter": "python",
   "pygments_lexer": "ipython2",
   "version": "2.7.18"
  }
 },
 "nbformat": 4,
 "nbformat_minor": 2
}
