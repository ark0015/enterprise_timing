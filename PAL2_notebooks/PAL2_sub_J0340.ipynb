{
 "cells": [
  {
   "cell_type": "code",
   "execution_count": 1,
   "metadata": {},
   "outputs": [],
   "source": [
    "%load_ext autoreload\n",
    "%autoreload 2"
   ]
  },
  {
   "cell_type": "code",
   "execution_count": 2,
   "metadata": {},
   "outputs": [],
   "source": [
    "import os"
   ]
  },
  {
   "cell_type": "code",
   "execution_count": 3,
   "metadata": {},
   "outputs": [],
   "source": [
    "pulsar = \"J0340+4130\"\n",
    "h5File=\"/home/andrew/Documents/Research/nanograv/enterprise_timing/{}/ark_PAL2/{}_h5file.hdf5\".format(pulsar,pulsar)\n",
    "\n",
    "Niter = int(1e6)\n",
    "{Neff} = 5000\n",
    "resume = True"
   ]
  },
  {
   "cell_type": "markdown",
   "metadata": {},
   "source": [
    "# Noise Only"
   ]
  },
  {
   "cell_type": "code",
   "execution_count": 4,
   "metadata": {},
   "outputs": [],
   "source": [
    "run_name = 'PAL2_noRN_varyWN_noise_only_mark9_1'\n",
    "h5File=\"/home/andrew/Documents/Research/nanograv/enterprise_timing/{}/ark_PAL2/{}_h5file.hdf5\".format(pulsar,pulsar)\n",
    "noise_only_outDir=\"/home/andrew/Documents/Research/nanograv/enterprise_timing/{}/ark_PAL2/{}\".format(pulsar,run_name)\n",
    "if not os.path.isdir(noise_only_outDir):\n",
    "    os.makedirs(noise_only_outDir)\n",
    "PAL2_run_loc = \"/home/andrew/Documents/Research/nanograv/PAL2/PAL2/PAL2_run.py\""
   ]
  },
  {
   "cell_type": "code",
   "execution_count": 16,
   "metadata": {},
   "outputs": [
    {
     "name": "stdout",
     "output_type": "stream",
     "text": [
      "/home/andrew/miniconda2/envs/pal2/lib/python2.7/site-packages/h5py/_hl/dataset.py:313: H5pyDeprecationWarning: dataset.value has been deprecated. Use dataset[()] instead.\n",
      "  \"Use dataset[()] instead.\", H5pyDeprecationWarning)\n",
      "mark9\n",
      "Warning: Not varying red noise\n",
      "WARNING: Using seperate Tmax for each pulsar\n",
      "Requested to re-create the Auxiliaries\n",
      "Creating Auxiliaries for J0340+4130\n",
      "6 Free parameters\n",
      "Search Parameters: ['efac-Rcvr1_2_GUPPI', 'efac-Rcvr_800_GUPPI', 'jitter_q-Rcvr1_2_GUPPI', 'jitter_q-Rcvr_800_GUPPI', 'equad-Rcvr1_2_GUPPI', 'equad-Rcvr_800_GUPPI']\n",
      "Running model with no GWB correlations\n",
      "[ 1.          1.         -8.40472601 -8.39494605 -4.21072446 -7.32846162]\n",
      "{'incCorrelations': False}\n",
      "25650.138995251957 -11.196643907996082\n",
      "[[0, 1, 2, 3, 4, 5], [0], [1], [4], [5], [2], [3]]\n",
      "Engage!\n",
      "Resuming run from chain file /home/andrew/Documents/Research/nanograv/enterprise_timing/J0340+4130/ark_PAL2/PAL2_noRN_varyWN_noise_only_mark9_1/chain_1.txt\n",
      "Finished 1.00 percent in 26.571175 s Acceptance rate = 0.59426Adding DE jump with weight 50\n",
      "Finished 20.30 percent in 872.478648 s Acceptance rate = 0.604343\n",
      "Run Complete with 5018 effective samples\n"
     ]
    }
   ],
   "source": [
    "#Noise Only\n",
    "!python {PAL2_run_loc} --h5File {h5File} --outDir {noise_only_outDir} --mark9 \\\n",
    "--pulsar {pulsar} --incEquad --incJitterEquad --niter {Niter} --resume --neff {Neff}"
   ]
  },
  {
   "cell_type": "markdown",
   "metadata": {},
   "source": [
    "# Noise Only, No TM"
   ]
  },
  {
   "cell_type": "code",
   "execution_count": 6,
   "metadata": {},
   "outputs": [],
   "source": [
    "run_name = 'PAL2_noRN_varyWN_noise_only_no_tm_mark9_1'\n",
    "noise_only_no_tm_outDir=\"/home/andrew/Documents/Research/nanograv/enterprise_timing/{}/ark_PAL2/{}\".format(pulsar,run_name)\n",
    "PAL2_run_loc = \"/home/andrew/Documents/Research/nanograv/PAL2/PAL2/PAL2_run.py\""
   ]
  },
  {
   "cell_type": "code",
   "execution_count": 7,
   "metadata": {
    "scrolled": false
   },
   "outputs": [
    {
     "name": "stdout",
     "output_type": "stream",
     "text": [
      "usage: PAL2_run.py [-h] --h5File H5FILE [--jsonfile JSONFILE] [--fromFile]\r\n",
      "                   [--outDir OUTDIR] --pulsar PNAME [PNAME ...] [--incRed]\r\n",
      "                   [--redModel REDMODEL] [--nf NFREQS] [--fixRedSi]\r\n",
      "                   [--redAmpPrior REDAMPPRIOR] [--incSingleRed] [--incRedBand]\r\n",
      "                   [--incRedEnv] [--redEnvModel REDENVMODEL] [--incRedExt]\r\n",
      "                   [--redExtModel REDEXTMODEL] [--nfext NFEXT] [--Tspan TSPAN]\r\n",
      "                   [--incDM] [--dmModel DMMODEL] [--ndmf NDMFREQS]\r\n",
      "                   [--DMAmpPrior DMAMPPRIOR] [--incEphemError]\r\n",
      "                   [--ephemModel EPHEMMODEL] [--incEphemMixture]\r\n",
      "                   [--mixture_ephems MIXTURE_EPHEMS [MIXTURE_EPHEMS ...]]\r\n",
      "                   [--ephem_dirichlet_alpha EPHEM_DIRICHLET_ALPHA] [--incScat]\r\n",
      "                   [--scatModel SCATMODEL] [--nscatf NSCATF] [--incSingleDM]\r\n",
      "                   [--incDMshapelet] [--nshape NSHAPE] [--margShapelet]\r\n",
      "                   [--incDMX] [--dmxKernelModel DMXKERNELMODEL] [--incDMBand]\r\n",
      "                   [--incGWB] [--ngwf NGWF] [--gwbModel GWBMODEL]\r\n",
      "                   [--fixKappa FIXKAPPA] [--fixSi FIXSI] [--noCorrelations]\r\n",
      "                   [--sparse] [--GWBAmpPrior GWBAMPPRIOR]\r\n",
      "                   [--GWBGaussian GWBGAUSSIAN [GWBGAUSSIAN ...]] [--incORF]\r\n",
      "                   [--gwbSingleModel GWBSINGLEMODEL] [--incGWBSingle]\r\n",
      "                   [--incGWBAni] [--lmax LMAX] [--clmPrior CLMPRIOR]\r\n",
      "                   [--incEquad] [--separateEquads SEPARATEEQUADS]\r\n",
      "                   [--noVaryEfac] [--separateEfacs SEPARATEEFACS]\r\n",
      "                   [--incJitterEquad]\r\n",
      "                   [--separateJitterEquad SEPARATEJITTEREQUAD] [--fixNoise]\r\n",
      "                   [--noVaryNoise] [--fixWhite] [--noisedir NOISEDIR]\r\n",
      "                   [--incTimingModel] [--tmmodel TMMODEL] [--fullmodel]\r\n",
      "                   [--noMarg] [--addpars ADDPARS [ADDPARS ...]]\r\n",
      "                   [--delpars DELPARS [DELPARS ...]] [--addAllPars]\r\n",
      "                   [--incNonGaussian] [--nnongauss NNONGAUSS] [--inc_dm_efac]\r\n",
      "                   [--incGWwavelet] [--nGWwavelets NGWWAVELETS] [--incWavelet]\r\n",
      "                   [--nWavelets NWAVELETS] [--waveletModel WAVELETMODEL]\r\n",
      "                   [--incSysWavelet] [--nSysWavelets NSYSWAVELETS]\r\n",
      "                   [--sysWaveletModel SYSWAVELETMODEL] [--incDMWavelet]\r\n",
      "                   [--nDMWavelets NDMWAVELETS] [--fixcBeta FIXCBETA] [--incCW]\r\n",
      "                   [--nCW NCW] [--cwModel CWMODEL] [--incPdist]\r\n",
      "                   [--CWupperLimit] [--fixf FIXF] [--cwtheta CWTHETA]\r\n",
      "                   [--cwphi CWPHI] [--cwdist CWDIST] [--cwsnrprior] [--incBWM]\r\n",
      "                   [--BWMmodel BWMMODEL] [--incGP] [--incGlitch]\r\n",
      "                   [--incGlitchBand] [--niter NITER] [--thin THIN]\r\n",
      "                   [--compression COMPRESSION] [--sampler SAMPLER]\r\n",
      "                   [--zerologlike] [--neff NEFF] [--isave ISAVE] [--resume]\r\n",
      "                   [--writeHotChains] [--hotChain] [--mark6] [--Tmatrix]\r\n",
      "                   [--mark9] [--mark10] [--mark11] [--Tmin TMIN] [--Tmax TMAX]\r\n",
      "                   [--start_time START_TIME] [--end_time END_TIME]\r\n",
      "                   [--use_svd_design]\r\n",
      "PAL2_run.py: error: argument --neff: invalid int value: 'Neff'\r\n"
     ]
    }
   ],
   "source": [
    "#Noise Only no tm\n",
    "!python {PAL2_run_loc} --h5File {h5File} --outDir {noise_only_no_tm_outDir} --mark9 \\\n",
    "--pulsar {pulsar} --incEquad --incJitterEquad --niter {Niter} --noMarg --resume --neff {Neff}"
   ]
  },
  {
   "cell_type": "markdown",
   "metadata": {},
   "source": [
    "# Linear TM"
   ]
  },
  {
   "cell_type": "code",
   "execution_count": 17,
   "metadata": {},
   "outputs": [],
   "source": [
    "ltm_timing_run_name = 'PAL2_ltm_noRN_varyWN_lin_DMX_FD_JUMP_etc_mark9_1'\n",
    "ltm_timing_outDir=\"/home/andrew/Documents/Research/nanograv/enterprise_timing/{}/ark_PAL2/{}\".format(pulsar,ltm_timing_run_name)\n",
    "PAL2_run_loc = \"/home/andrew/Documents/Research/nanograv/PAL2/PAL2/PAL2_run.py\""
   ]
  },
  {
   "cell_type": "code",
   "execution_count": 18,
   "metadata": {},
   "outputs": [
    {
     "name": "stdout",
     "output_type": "stream",
     "text": [
      "/home/andrew/miniconda2/envs/pal2/lib/python2.7/site-packages/h5py/_hl/dataset.py:313: H5pyDeprecationWarning: dataset.value has been deprecated. Use dataset[()] instead.\n",
      "  \"Use dataset[()] instead.\", H5pyDeprecationWarning)\n",
      "mark9\n",
      "Warning: Not varying red noise\n",
      "WARNING: Using seperate Tmax for each pulsar\n",
      "Requested to re-create the Auxiliaries\n",
      "Creating Auxiliaries for J0340+4130\n",
      "Numerically including ['PMELONG', 'PMELAT', 'PX']\n",
      "Analytically marginalizing over ['Offset', 'ELONG', 'ELAT', 'F0', 'F1', 'FD1', 'DMX_0001', 'DMX_0002', 'DMX_0003', 'DMX_0004', 'DMX_0005', 'DMX_0006', 'DMX_0007', 'DMX_0008', 'DMX_0009', 'DMX_0010', 'DMX_0011', 'DMX_0012', 'DMX_0013', 'DMX_0014', 'DMX_0015', 'DMX_0016', 'DMX_0017', 'DMX_0018', 'DMX_0019', 'DMX_0020', 'DMX_0021', 'DMX_0022', 'DMX_0023', 'DMX_0024', 'DMX_0025', 'DMX_0026', 'DMX_0027', 'JUMP1']\n",
      "9 Free parameters\n",
      "Search Parameters: ['efac-Rcvr1_2_GUPPI', 'efac-Rcvr_800_GUPPI', 'jitter_q-Rcvr1_2_GUPPI', 'jitter_q-Rcvr_800_GUPPI', 'equad-Rcvr1_2_GUPPI', 'equad-Rcvr_800_GUPPI', 'PMELONG', 'PMELAT', 'PX']\n",
      "Running model with no GWB correlations\n",
      "[ 1.  1. -8. -8. -8. -8.  0.  0.  0.]\n",
      "{'incCorrelations': False}\n",
      "28119.674870509174 4.550070534277944\n",
      "[[0, 1, 2, 3, 4, 5, 6, 7, 8], [0], [1], [4], [5], [2], [3], [6, 7, 8]]\n",
      "Engage!\n",
      "Resuming run from chain file /home/andrew/Documents/Research/nanograv/enterprise_timing/J0340+4130/ark_PAL2/PAL2_ltm_noRN_varyWN_lin_DMX_FD_JUMP_etc_mark9_1/chain_1.txt\n",
      "Adding DE jump with weight 50\n",
      "Finished 74.60 percent in 2446.142640 s Acceptance rate = 0.421123\n",
      "Run Complete with 5015 effective samples\n"
     ]
    }
   ],
   "source": [
    "#Linear Timing Model Run\n",
    "!python {PAL2_run_loc} --h5File {h5File} --outDir {ltm_timing_outDir} --mark9 --tmmodel 'linear' \\\n",
    "--pulsar {pulsar} --incEquad --incJitterEquad --niter {Niter} --incTimingModel --addAllPars --resume --neff {Neff}"
   ]
  },
  {
   "cell_type": "markdown",
   "metadata": {},
   "source": [
    "# NonLinear+Linear TM"
   ]
  },
  {
   "cell_type": "code",
   "execution_count": 19,
   "metadata": {},
   "outputs": [],
   "source": [
    "nltm_timing_run_name = 'PAL2_nltm_ltm_noRN_varyWN_lin_DMX_FD_JUMP_etc_mark9_1'\n",
    "nltm_timing_outDir=\"/home/andrew/Documents/Research/nanograv/enterprise_timing/{}/ark_PAL2/{}\".format(pulsar,nltm_timing_run_name)\n",
    "PAL2_run_loc = \"/home/andrew/Documents/Research/nanograv/PAL2/PAL2/PAL2_run.py\""
   ]
  },
  {
   "cell_type": "code",
   "execution_count": 20,
   "metadata": {},
   "outputs": [
    {
     "name": "stdout",
     "output_type": "stream",
     "text": [
      "/home/andrew/miniconda2/envs/pal2/lib/python2.7/site-packages/h5py/_hl/dataset.py:313: H5pyDeprecationWarning: dataset.value has been deprecated. Use dataset[()] instead.\n",
      "  \"Use dataset[()] instead.\", H5pyDeprecationWarning)\n",
      "mark9\n",
      "\u001b[0m\u001b[1m[tempo2Util.C:396] \u001b[0m\u001b[0;35mWarning: \u001b[0m[MISC1] Unknown parameter in par file:  DMX\n",
      "\u001b[0m\u001b[1m[tempo2Util.C:401] \u001b[0m\u001b[0;35mWarning: \u001b[0m[DUP1] duplicated warnings have been suppressed.\n",
      "\u001b[0m\u001b[1m[tempo2Util.C:396] \u001b[0m\u001b[0;35mWarning: \u001b[0m[PAR1] Have not set a position epoch. The period epoch will be used instead. /tmp/tmpRbR7KP\n",
      "\u001b[0m\u001b[1m[tempo2Util.C:396] \u001b[0m\u001b[0;35mWarning: \u001b[0m[PAR2] Have not set a DM epoch. The period epoch will be used instead. /tmp/tmpRbR7KP\n",
      "\u001b[0m\u001b[1m[tempo2Util.C:396] \u001b[0m\u001b[0;35mWarning: \u001b[0m[TIM1] Please place MODE flags in the parameter file \n",
      "Warning: Not varying red noise\n",
      "WARNING: Using seperate Tmax for each pulsar\n",
      "Requested to re-create the Auxiliaries\n",
      "Creating Auxiliaries for J0340+4130\n",
      "Numerically including ['PMELONG', 'PMELAT', 'PX']\n",
      "Analytically marginalizing over ['Offset', 'ELONG', 'ELAT', 'F0', 'F1', 'FD1', 'DMX_0001', 'DMX_0002', 'DMX_0003', 'DMX_0004', 'DMX_0005', 'DMX_0006', 'DMX_0007', 'DMX_0008', 'DMX_0009', 'DMX_0010', 'DMX_0011', 'DMX_0012', 'DMX_0013', 'DMX_0014', 'DMX_0015', 'DMX_0016', 'DMX_0017', 'DMX_0018', 'DMX_0019', 'DMX_0020', 'DMX_0021', 'DMX_0022', 'DMX_0023', 'DMX_0024', 'DMX_0025', 'DMX_0026', 'DMX_0027', 'JUMP1']\n",
      "9 Free parameters\n",
      "Search Parameters: ['efac-Rcvr1_2_GUPPI', 'efac-Rcvr_800_GUPPI', 'jitter_q-Rcvr1_2_GUPPI', 'jitter_q-Rcvr_800_GUPPI', 'equad-Rcvr1_2_GUPPI', 'equad-Rcvr_800_GUPPI', 'PMELONG', 'PMELAT', 'PX']\n",
      "Running model with no GWB correlations\n",
      "[ 1.      1.     -8.     -8.     -8.     -8.     -2.4185 -4.2499  0.6837]\n",
      "{'incCorrelations': False}\n",
      "28119.674870509174 -30.538716792088067\n",
      "[[0, 1, 2, 3, 4, 5, 6, 7, 8], [0], [1], [4], [5], [2], [3], [6, 7, 8]]\n",
      "Engage!\n",
      "Resuming run from chain file /home/andrew/Documents/Research/nanograv/enterprise_timing/J0340+4130/ark_PAL2/PAL2_nltm_ltm_noRN_varyWN_lin_DMX_FD_JUMP_etc_mark9_1/chain_1.txt\n",
      "Finished 1.00 percent in 32.333515 s Acceptance rate = 0.49255Adding DE jump with weight 50\n",
      "Finished 38.80 percent in 4181.182603 s Acceptance rate = 0.506903\n",
      "Run Complete with 5003 effective samples\n"
     ]
    }
   ],
   "source": [
    "#Nonlinear Timing Model Run\n",
    "!python {PAL2_run_loc} --h5File {h5File} --outDir {nltm_timing_outDir} --mark9 --tmmodel 'nonlinear' \\\n",
    "--pulsar {pulsar} --incEquad --incJitterEquad --niter {Niter} --incTimingModel --addAllPars --resume --neff {Neff}"
   ]
  },
  {
   "cell_type": "markdown",
   "metadata": {},
   "source": [
    "# Full Nonlinear TM"
   ]
  },
  {
   "cell_type": "code",
   "execution_count": 21,
   "metadata": {},
   "outputs": [
    {
     "data": {
      "text/plain": [
       "'/home/andrew/Documents/Research/nanograv/enterprise_timing/J0340+4130/ark_PAL2/PAL2_nltm_ltm_noRN_varyWN_full_run_mark9_1'"
      ]
     },
     "execution_count": 21,
     "metadata": {},
     "output_type": "execute_result"
    }
   ],
   "source": [
    "full_timing_run_name = 'PAL2_nltm_ltm_noRN_varyWN_full_run_mark9_1'\n",
    "full_timing_outDir=\"/home/andrew/Documents/Research/nanograv/enterprise_timing/{}/ark_PAL2/{}\".format(pulsar,full_timing_run_name)\n",
    "PAL2_run_loc = \"/home/andrew/Documents/Research/nanograv/PAL2/PAL2/PAL2_run.py\"\n",
    "full_timing_outDir"
   ]
  },
  {
   "cell_type": "code",
   "execution_count": 22,
   "metadata": {},
   "outputs": [
    {
     "name": "stdout",
     "output_type": "stream",
     "text": [
      "/home/andrew/miniconda2/envs/pal2/lib/python2.7/site-packages/h5py/_hl/dataset.py:313: H5pyDeprecationWarning: dataset.value has been deprecated. Use dataset[()] instead.\n",
      "  \"Use dataset[()] instead.\", H5pyDeprecationWarning)\n",
      "mark9\n",
      "\u001b[0m\u001b[1m[tempo2Util.C:396] \u001b[0m\u001b[0;35mWarning: \u001b[0m[MISC1] Unknown parameter in par file:  DMX\n",
      "\u001b[0m\u001b[1m[tempo2Util.C:401] \u001b[0m\u001b[0;35mWarning: \u001b[0m[DUP1] duplicated warnings have been suppressed.\n",
      "\u001b[0m\u001b[1m[tempo2Util.C:396] \u001b[0m\u001b[0;35mWarning: \u001b[0m[PAR1] Have not set a position epoch. The period epoch will be used instead. /tmp/tmp30Wx4u\n",
      "\u001b[0m\u001b[1m[tempo2Util.C:396] \u001b[0m\u001b[0;35mWarning: \u001b[0m[PAR2] Have not set a DM epoch. The period epoch will be used instead. /tmp/tmp30Wx4u\n",
      "\u001b[0m\u001b[1m[tempo2Util.C:396] \u001b[0m\u001b[0;35mWarning: \u001b[0m[TIM1] Please place MODE flags in the parameter file \n",
      "Warning: Not varying red noise\n",
      "WARNING: Using seperate Tmax for each pulsar\n",
      "Requested to re-create the Auxiliaries\n",
      "Creating Auxiliaries for J0340+4130\n",
      "Numerically including ['Offset', 'ELONG', 'ELAT', 'F0', 'F1', 'PMELONG', 'PMELAT', 'PX', 'FD1', 'DMX_0001', 'DMX_0002', 'DMX_0003', 'DMX_0004', 'DMX_0005', 'DMX_0006', 'DMX_0007', 'DMX_0008', 'DMX_0009', 'DMX_0010', 'DMX_0011', 'DMX_0012', 'DMX_0013', 'DMX_0014', 'DMX_0015', 'DMX_0016', 'DMX_0017', 'DMX_0018', 'DMX_0019', 'DMX_0020', 'DMX_0021', 'DMX_0022', 'DMX_0023', 'DMX_0024', 'DMX_0025', 'DMX_0026', 'DMX_0027', 'JUMP1']\n",
      "Analytically marginalizing over []\n",
      "43 Free parameters\n",
      "Search Parameters: ['efac-Rcvr1_2_GUPPI', 'efac-Rcvr_800_GUPPI', 'jitter_q-Rcvr1_2_GUPPI', 'jitter_q-Rcvr_800_GUPPI', 'equad-Rcvr1_2_GUPPI', 'equad-Rcvr_800_GUPPI', 'Offset', 'ELONG', 'ELAT', 'F0', 'F1', 'PMELONG', 'PMELAT', 'PX', 'FD1', 'DMX_0001', 'DMX_0002', 'DMX_0003', 'DMX_0004', 'DMX_0005', 'DMX_0006', 'DMX_0007', 'DMX_0008', 'DMX_0009', 'DMX_0010', 'DMX_0011', 'DMX_0012', 'DMX_0013', 'DMX_0014', 'DMX_0015', 'DMX_0016', 'DMX_0017', 'DMX_0018', 'DMX_0019', 'DMX_0020', 'DMX_0021', 'DMX_0022', 'DMX_0023', 'DMX_0024', 'DMX_0025', 'DMX_0026', 'DMX_0027', 'JUMP1']\n",
      "Running model with no GWB correlations\n",
      "[ 1.00000000e+00  1.00000000e+00 -8.00000000e+00 -8.00000000e+00\n",
      " -8.00000000e+00 -8.00000000e+00  0.00000000e+00  1.09282154e+00\n",
      "  3.72356826e-01  3.03090979e+02 -6.50160415e-16 -2.41850000e+00\n",
      " -4.24990000e+00  6.83700000e-01  3.21433466e-05 -5.68289474e-03\n",
      " -5.52085223e-03 -5.48448238e-03 -5.24185740e-03 -5.46321846e-03\n",
      " -5.82508480e-03 -5.30310515e-03 -5.26781796e-03 -5.17494804e-03\n",
      " -5.06635240e-03 -4.78031918e-03 -5.02086510e-03 -5.05935183e-03\n",
      " -5.09190447e-03 -5.16529749e-03 -5.07480475e-03 -5.05151620e-03\n",
      " -4.98892016e-03 -4.83972156e-03 -4.86491944e-03 -4.63044232e-03\n",
      " -4.34833581e-03 -4.47875203e-03 -3.99314623e-03 -4.35106576e-03\n",
      " -4.04593118e-03 -4.45715532e-03 -2.00700000e-06]\n",
      "{'incCorrelations': False}\n",
      "-326196.1654488042 105.75722903158308\n",
      "[[0, 1, 2, 3, 4, 5, 6, 7, 8, 9, 10, 11, 12, 13, 14, 15, 16, 17, 18, 19, 20, 21, 22, 23, 24, 25, 26, 27, 28, 29, 30, 31, 32, 33, 34, 35, 36, 37, 38, 39, 40, 41, 42], [0], [1], [4], [5], [2], [3], [6, 7, 8, 9, 10, 11, 12, 13, 14, 15, 16, 17, 18, 19, 20, 21, 22, 23, 24, 25, 26, 27, 28, 29, 30, 31, 32, 33, 34, 35, 36, 37, 38, 39, 40, 41, 42]]\n",
      "Engage!\n",
      "Resuming run from chain file /home/andrew/Documents/Research/nanograv/enterprise_timing/J0340+4130/ark_PAL2/PAL2_nltm_ltm_noRN_varyWN_full_run_mark9_1/chain_1.txt\n",
      "Adding DE jump with weight 50\n",
      "Finished 99.90 percent in 9603.727469 s Acceptance rate = 0.435966\n",
      "Run Complete\n"
     ]
    }
   ],
   "source": [
    "#Timing Model Run\n",
    "!python {PAL2_run_loc} --h5File {h5File} --outDir {full_timing_outDir} --mark9 --tmmodel 'nonlinear' \\\n",
    "--pulsar {pulsar} --incEquad --incJitterEquad --niter {Niter} --incTimingModel --fullmodel --resume --neff {Neff}"
   ]
  },
  {
   "cell_type": "markdown",
   "metadata": {},
   "source": [
    "# Nonlinear+Linear TM, Resume Enterprise Chain"
   ]
  },
  {
   "cell_type": "code",
   "execution_count": 23,
   "metadata": {},
   "outputs": [],
   "source": [
    "#enterprise resume run\n",
    "e_e_timing_run_name = 'J0340+4130_uniform_DE421_nltm_ltm_noRN_varyWN_lin_DMX_FD_JUMP_etc_500_sigma_in_PAL2_2'\n",
    "e_e_timing_outDir=\"/home/andrew/Documents/Research/nanograv/enterprise_timing/{}/ark_PAL2/{}\".format(pulsar,e_e_timing_run_name)\n",
    "PAL2_run_loc = \"/home/andrew/Documents/Research/nanograv/PAL2/PAL2/PAL2_run.py\""
   ]
  },
  {
   "cell_type": "code",
   "execution_count": 24,
   "metadata": {},
   "outputs": [
    {
     "name": "stdout",
     "output_type": "stream",
     "text": [
      "/home/andrew/miniconda2/envs/pal2/lib/python2.7/site-packages/h5py/_hl/dataset.py:313: H5pyDeprecationWarning: dataset.value has been deprecated. Use dataset[()] instead.\n",
      "  \"Use dataset[()] instead.\", H5pyDeprecationWarning)\n",
      "mark9\n",
      "\u001b[0m\u001b[1m[tempo2Util.C:396] \u001b[0m\u001b[0;35mWarning: \u001b[0m[MISC1] Unknown parameter in par file:  DMX\n",
      "\u001b[0m\u001b[1m[tempo2Util.C:401] \u001b[0m\u001b[0;35mWarning: \u001b[0m[DUP1] duplicated warnings have been suppressed.\n",
      "\u001b[0m\u001b[1m[tempo2Util.C:396] \u001b[0m\u001b[0;35mWarning: \u001b[0m[PAR1] Have not set a position epoch. The period epoch will be used instead. /tmp/tmpUz07XA\n",
      "\u001b[0m\u001b[1m[tempo2Util.C:396] \u001b[0m\u001b[0;35mWarning: \u001b[0m[PAR2] Have not set a DM epoch. The period epoch will be used instead. /tmp/tmpUz07XA\n",
      "\u001b[0m\u001b[1m[tempo2Util.C:396] \u001b[0m\u001b[0;35mWarning: \u001b[0m[TIM1] Please place MODE flags in the parameter file \n",
      "Warning: Not varying red noise\n",
      "WARNING: Using seperate Tmax for each pulsar\n",
      "Requested to re-create the Auxiliaries\n",
      "Creating Auxiliaries for J0340+4130\n",
      "Numerically including ['PMELONG', 'PMELAT', 'PX']\n",
      "Analytically marginalizing over ['Offset', 'ELONG', 'ELAT', 'F0', 'F1', 'FD1', 'DMX_0001', 'DMX_0002', 'DMX_0003', 'DMX_0004', 'DMX_0005', 'DMX_0006', 'DMX_0007', 'DMX_0008', 'DMX_0009', 'DMX_0010', 'DMX_0011', 'DMX_0012', 'DMX_0013', 'DMX_0014', 'DMX_0015', 'DMX_0016', 'DMX_0017', 'DMX_0018', 'DMX_0019', 'DMX_0020', 'DMX_0021', 'DMX_0022', 'DMX_0023', 'DMX_0024', 'DMX_0025', 'DMX_0026', 'DMX_0027', 'JUMP1']\n",
      "9 Free parameters\n",
      "Search Parameters: ['efac-Rcvr1_2_GUPPI', 'efac-Rcvr_800_GUPPI', 'jitter_q-Rcvr1_2_GUPPI', 'jitter_q-Rcvr_800_GUPPI', 'equad-Rcvr1_2_GUPPI', 'equad-Rcvr_800_GUPPI', 'PMELONG', 'PMELAT', 'PX']\n",
      "Running model with no GWB correlations\n",
      "[ 1.      1.     -8.     -8.     -8.     -8.     -2.4185 -4.2499  0.6837]\n",
      "{'incCorrelations': False}\n",
      "28119.674870509174 -30.538716792088067\n",
      "[[0, 1, 2, 3, 4, 5, 6, 7, 8], [0], [1], [4], [5], [2], [3], [6, 7, 8]]\n",
      "Engage!\n",
      "Resuming run from chain file /home/andrew/Documents/Research/nanograv/enterprise_timing/J0340+4130/ark_PAL2/J0340+4130_uniform_DE421_nltm_ltm_noRN_varyWN_lin_DMX_FD_JUMP_etc_500_sigma_in_PAL2_2/chain_1.txt\n",
      "Adding DE jump with weight 50\n",
      "\n",
      "Run Complete with 5146 effective samples\n"
     ]
    }
   ],
   "source": [
    "#Nonlinear Timing Model Run\n",
    "!python {PAL2_run_loc} --h5File {h5File} --outDir {e_e_timing_outDir} --mark9 --tmmodel 'nonlinear' \\\n",
    "--pulsar {pulsar} --incEquad --incJitterEquad --niter {Niter} --incTimingModel --addAllPars --resume --neff {Neff}"
   ]
  },
  {
   "cell_type": "code",
   "execution_count": null,
   "metadata": {},
   "outputs": [],
   "source": []
  }
 ],
 "metadata": {
  "kernelspec": {
   "display_name": "Python 3",
   "language": "python",
   "name": "python3"
  },
  "language_info": {
   "codemirror_mode": {
    "name": "ipython",
    "version": 3
   },
   "file_extension": ".py",
   "mimetype": "text/x-python",
   "name": "python",
   "nbconvert_exporter": "python",
   "pygments_lexer": "ipython3",
   "version": "3.7.9"
  }
 },
 "nbformat": 4,
 "nbformat_minor": 2
}
