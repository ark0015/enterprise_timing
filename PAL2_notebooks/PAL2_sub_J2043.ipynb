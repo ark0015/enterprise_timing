{
 "cells": [
  {
   "cell_type": "code",
   "execution_count": 1,
   "metadata": {},
   "outputs": [],
   "source": [
    "%load_ext autoreload\n",
    "%autoreload 2"
   ]
  },
  {
   "cell_type": "code",
   "execution_count": 2,
   "metadata": {},
   "outputs": [],
   "source": [
    "import os"
   ]
  },
  {
   "cell_type": "code",
   "execution_count": 3,
   "metadata": {},
   "outputs": [],
   "source": [
    "run_name = 'PAL2_noRN_varyWN_noise_only_2'\n",
    "pulsar = \"J2043+1711\"\n",
    "h5File=\"/home/andrew/Documents/Research/nanograv/enterprise_timing/{}/ark_PAL2/{}_h5file.hdf5\".format(pulsar,pulsar)\n",
    "outDir=\"/home/andrew/Documents/Research/nanograv/enterprise_timing/{}/ark_PAL2/{}\".format(pulsar,run_name)\n",
    "if not os.path.isdir(outDir):\n",
    "    os.makedirs(outDir)\n",
    "PAL2_run_loc = \"/home/andrew/Documents/Research/nanograv/PAL2/PAL2/PAL2_run.py\""
   ]
  },
  {
   "cell_type": "code",
   "execution_count": 4,
   "metadata": {},
   "outputs": [],
   "source": [
    "Niter = int(1e6)\n",
    "resume = True"
   ]
  },
  {
   "cell_type": "code",
   "execution_count": 5,
   "metadata": {
    "scrolled": false
   },
   "outputs": [
    {
     "name": "stdout",
     "output_type": "stream",
     "text": [
      "/home/andrew/miniconda2/envs/pal2/lib/python2.7/site-packages/h5py/_hl/dataset.py:313: H5pyDeprecationWarning: dataset.value has been deprecated. Use dataset[()] instead.\n",
      "  \"Use dataset[()] instead.\", H5pyDeprecationWarning)\n",
      "Warning: Not varying red noise\n",
      "WARNING: Using seperate Tmax for each pulsar\n",
      "Requested to re-create the Auxiliaries\n",
      "Creating Auxiliaries for J2043+1711\n",
      "12 Free parameters\n",
      "Search Parameters: ['efac-430_PUPPI', 'efac-L-wide_PUPPI', 'efac-430_ASP', 'efac-L-wide_ASP', 'jitter_q-430_ASP', 'jitter_q-430_PUPPI', 'jitter_q-L-wide_ASP', 'jitter_q-L-wide_PUPPI', 'equad-430_PUPPI', 'equad-L-wide_PUPPI', 'equad-430_ASP', 'equad-L-wide_ASP']\n",
      "Running model with no GWB correlations\n",
      "[ 1.          1.          1.          1.         -4.03471767 -5.32766474\n",
      " -6.01496999 -7.06571183 -8.28310392 -8.40625198 -4.59849016 -8.41304437]\n",
      "17786.84291485382 -22.393287815992164\n",
      "[[0, 1, 2, 3, 4, 5, 6, 7, 8, 9, 10, 11], [0], [1], [2], [3], [8], [9], [10], [11], [4], [5], [6], [7]]\n",
      "Engage!\n",
      "Finished 1.00 percent in 16.859041 s Acceptance rate = 0.551975Adding DE jump with weight 50\n",
      "Finished 26.90 percent in 448.518623 s Acceptance rate = 0.577238\n",
      "Run Complete with 1209 effective samples\n"
     ]
    }
   ],
   "source": [
    "#Noise Only\n",
    "!python {PAL2_run_loc} --h5File {h5File} --outDir {outDir} \\\n",
    "--pulsar {pulsar} --incEquad --incJitterEquad --niter {Niter} --resume"
   ]
  },
  {
   "cell_type": "code",
   "execution_count": 8,
   "metadata": {},
   "outputs": [],
   "source": [
    "ltm_timing_run_name = 'PAL2_ltm_noRN_varyWN_lin_DMX_FD_JUMP_etc_1'\n",
    "ltm_timing_outDir=\"/home/andrew/Documents/Research/nanograv/enterprise_timing/{}/ark_PAL2/{}\".format(pulsar,ltm_timing_run_name)\n",
    "PAL2_run_loc = \"/home/andrew/Documents/Research/nanograv/PAL2/PAL2/PAL2_run.py\"\n",
    "ltm_pars = \"PMELONG PMELAT PX SINI PB TASC A1 EPS1 EPS2 M2\""
   ]
  },
  {
   "cell_type": "code",
   "execution_count": 9,
   "metadata": {},
   "outputs": [
    {
     "name": "stdout",
     "output_type": "stream",
     "text": [
      "/home/andrew/miniconda2/envs/pal2/lib/python2.7/site-packages/h5py/_hl/dataset.py:313: H5pyDeprecationWarning: dataset.value has been deprecated. Use dataset[()] instead.\n",
      "  \"Use dataset[()] instead.\", H5pyDeprecationWarning)\n",
      "Warning: Not varying red noise\n",
      "WARNING: Using seperate Tmax for each pulsar\n",
      "Requested to re-create the Auxiliaries\n",
      "Creating Auxiliaries for J2043+1711\n",
      "Numerically including ['PMELONG', 'PMELAT', 'PX', 'SINI', 'PB', 'A1', 'TASC', 'EPS1', 'EPS2', 'M2']\n",
      "Analytically marginalizing over ['Offset', 'ELONG', 'ELAT', 'F0', 'F1', 'FD1', 'DMX_0001', 'DMX_0002', 'DMX_0003', 'DMX_0004', 'DMX_0005', 'DMX_0006', 'DMX_0007', 'DMX_0008', 'DMX_0009', 'DMX_0010', 'DMX_0011', 'DMX_0012', 'DMX_0013', 'DMX_0014', 'DMX_0015', 'DMX_0016', 'DMX_0017', 'DMX_0018', 'DMX_0019', 'DMX_0020', 'DMX_0021', 'DMX_0022', 'DMX_0023', 'JUMP1']\n",
      "22 Free parameters\n",
      "Search Parameters: ['efac-430_PUPPI', 'efac-L-wide_PUPPI', 'efac-430_ASP', 'efac-L-wide_ASP', 'jitter_q-430_ASP', 'jitter_q-430_PUPPI', 'jitter_q-L-wide_ASP', 'jitter_q-L-wide_PUPPI', 'equad-430_PUPPI', 'equad-L-wide_PUPPI', 'equad-430_ASP', 'equad-L-wide_ASP', 'PMELONG', 'PMELAT', 'PX', 'SINI', 'PB', 'A1', 'TASC', 'EPS1', 'EPS2', 'M2']\n",
      "Running model with no GWB correlations\n",
      "[ 1.  1.  1.  1. -8. -8. -8. -8. -8. -8. -8. -8.  0.  0.  0.  0.  0.  0.\n",
      "  0.  0.  0.  0.]\n",
      "18012.306247820532 51.72168113865314\n",
      "[[0, 1, 2, 3, 4, 5, 6, 7, 8, 9, 10, 11, 12, 13, 14, 15, 16, 17, 18, 19, 20, 21], [0], [1], [2], [3], [8], [9], [10], [11], [4], [5], [6], [7], [12, 13, 14, 15, 16, 17, 18, 19, 20, 21]]\n",
      "Engage!\n",
      "/home/andrew/Documents/Research/nanograv/PAL2/PAL2/PALmodels.py:8517: RuntimeWarning: invalid value encountered in double_scalars\n",
      "  mp = ((sini*(Pb/2/np.pi)**(2./3)*M2/X)**(3./2) - M2)/PALutils.SOLAR2S\n",
      "/home/andrew/Documents/Research/nanograv/PAL2/PAL2/PALmodels.py:8505: RuntimeWarning: invalid value encountered in log\n",
      "  prior += np.log(sini / np.sqrt(1 - sini ** 2))\n",
      "Finished 1.00 percent in 10.943786 s Acceptance rate = 0.3098Adding DE jump with weight 50\n",
      "Finished 43.90 percent in 632.389931 s Acceptance rate = 0.433811\n",
      "Run Complete with 1002 effective samples\n"
     ]
    }
   ],
   "source": [
    "#Linear Timing Model Run\n",
    "!python {PAL2_run_loc} --h5File {h5File} --outDir {ltm_timing_outDir} --tmmodel 'linear' \\\n",
    "--pulsar {pulsar} --incEquad --incJitterEquad --niter {Niter} --incTimingModel --addpars {ltm_pars} --resume"
   ]
  },
  {
   "cell_type": "code",
   "execution_count": 10,
   "metadata": {},
   "outputs": [],
   "source": [
    "nltm_timing_run_name = 'PAL2_nltm_ltm_noRN_varyWN_lin_DMX_FD_JUMP_etc_1'\n",
    "nltm_timing_outDir=\"/home/andrew/Documents/Research/nanograv/enterprise_timing/{}/ark_PAL2/{}\".format(pulsar,nltm_timing_run_name)\n",
    "PAL2_run_loc = \"/home/andrew/Documents/Research/nanograv/PAL2/PAL2/PAL2_run.py\"\n",
    "nltm_pars = \"PMELONG PMELAT PX SINI PB TASC A1 EPS1 EPS2 M2\""
   ]
  },
  {
   "cell_type": "code",
   "execution_count": 11,
   "metadata": {},
   "outputs": [
    {
     "name": "stdout",
     "output_type": "stream",
     "text": [
      "/home/andrew/miniconda2/envs/pal2/lib/python2.7/site-packages/h5py/_hl/dataset.py:313: H5pyDeprecationWarning: dataset.value has been deprecated. Use dataset[()] instead.\n",
      "  \"Use dataset[()] instead.\", H5pyDeprecationWarning)\n",
      "\u001b[0m\u001b[1m[tempo2Util.C:396] \u001b[0m\u001b[0;35mWarning: \u001b[0m[MISC1] Unknown parameter in par file:  DMX\n",
      "\u001b[0m\u001b[1m[tempo2Util.C:401] \u001b[0m\u001b[0;35mWarning: \u001b[0m[DUP1] duplicated warnings have been suppressed.\n",
      "\u001b[0m\u001b[1m[tempo2Util.C:396] \u001b[0m\u001b[0;35mWarning: \u001b[0m[PAR2] Have not set a DM epoch. The period epoch will be used instead. /tmp/tmp_pR99B\n",
      "\u001b[0m\u001b[1m[tempo2Util.C:396] \u001b[0m\u001b[0;35mWarning: \u001b[0m[TIM1] Please place MODE flags in the parameter file \n",
      "Turning on fit for PMELONG\n",
      "Turning on fit for PMELAT\n",
      "Turning on fit for PX\n",
      "Turning on fit for SINI\n",
      "Turning on fit for PB\n",
      "Turning on fit for TASC\n",
      "Turning on fit for A1\n",
      "Turning on fit for EPS1\n",
      "Turning on fit for EPS2\n",
      "Turning on fit for M2\n",
      "Warning: Not varying red noise\n",
      "WARNING: Using seperate Tmax for each pulsar\n",
      "Requested to re-create the Auxiliaries\n",
      "Creating Auxiliaries for J2043+1711\n",
      "Numerically including ['PMELONG', 'PMELAT', 'PX', 'SINI', 'PB', 'A1', 'TASC', 'EPS1', 'EPS2', 'M2']\n",
      "Analytically marginalizing over ['Offset', 'ELONG', 'ELAT', 'F0', 'F1', 'FD1', 'DMX_0001', 'DMX_0002', 'DMX_0003', 'DMX_0004', 'DMX_0005', 'DMX_0006', 'DMX_0007', 'DMX_0008', 'DMX_0009', 'DMX_0010', 'DMX_0011', 'DMX_0012', 'DMX_0013', 'DMX_0014', 'DMX_0015', 'DMX_0016', 'DMX_0017', 'DMX_0018', 'DMX_0019', 'DMX_0020', 'DMX_0021', 'DMX_0022', 'DMX_0023', 'JUMP1']\n",
      "22 Free parameters\n",
      "Search Parameters: ['efac-430_PUPPI', 'efac-L-wide_PUPPI', 'efac-430_ASP', 'efac-L-wide_ASP', 'jitter_q-430_ASP', 'jitter_q-430_PUPPI', 'jitter_q-L-wide_ASP', 'jitter_q-L-wide_PUPPI', 'equad-430_PUPPI', 'equad-L-wide_PUPPI', 'equad-430_ASP', 'equad-L-wide_ASP', 'PMELONG', 'PMELAT', 'PX', 'SINI', 'PB', 'A1', 'TASC', 'EPS1', 'EPS2', 'M2']\n",
      "Running model with no GWB correlations\n",
      "[ 1.00000000e+00  1.00000000e+00  1.00000000e+00  1.00000000e+00\n",
      " -8.00000000e+00 -8.00000000e+00 -8.00000000e+00 -8.00000000e+00\n",
      " -8.00000000e+00 -8.00000000e+00 -8.00000000e+00 -8.00000000e+00\n",
      " -8.96980000e+00 -8.51540000e+00  7.77700000e-01  9.93240000e-01\n",
      "  1.48229079e+00  1.62395838e+00  5.61743062e+04 -4.25310000e-06\n",
      " -2.41540000e-06  1.72879000e-01]\n",
      "18012.306247820532 19.616385918956269053\n",
      "[[0, 1, 2, 3, 4, 5, 6, 7, 8, 9, 10, 11, 12, 13, 14, 15, 16, 17, 18, 19, 20, 21], [0], [1], [2], [3], [8], [9], [10], [11], [4], [5], [6], [7], [12, 13, 14, 15, 16, 17, 18, 19, 20, 21]]\n",
      "Engage!\n",
      "Finished 1.00 percent in 56.417860 s Acceptance rate = 0.382689Adding DE jump with weight 50\n",
      "Finished 94.40 percent in 5456.552026 s Acceptance rate = 0.458419\n",
      "Run Complete with 1011 effective samples\n"
     ]
    }
   ],
   "source": [
    "#Nonlinear Timing Model Run\n",
    "!python {PAL2_run_loc} --h5File {h5File} --outDir {nltm_timing_outDir} --tmmodel 'nonlinear' \\\n",
    "--pulsar {pulsar} --incEquad --incJitterEquad --niter {Niter} --incTimingModel --addpars {nltm_pars}"
   ]
  },
  {
   "cell_type": "code",
   "execution_count": null,
   "metadata": {},
   "outputs": [],
   "source": []
  }
 ],
 "metadata": {
  "kernelspec": {
   "display_name": "Python 2",
   "language": "python",
   "name": "python2"
  },
  "language_info": {
   "codemirror_mode": {
    "name": "ipython",
    "version": 2
   },
   "file_extension": ".py",
   "mimetype": "text/x-python",
   "name": "python",
   "nbconvert_exporter": "python",
   "pygments_lexer": "ipython2",
   "version": "2.7.18"
  }
 },
 "nbformat": 4,
 "nbformat_minor": 2
}
