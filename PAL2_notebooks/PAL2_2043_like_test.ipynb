{
 "cells": [
  {
   "cell_type": "code",
   "execution_count": 1,
   "metadata": {},
   "outputs": [],
   "source": [
    "%load_ext autoreload\n",
    "%autoreload 2"
   ]
  },
  {
   "cell_type": "code",
   "execution_count": 2,
   "metadata": {},
   "outputs": [],
   "source": [
    "import os"
   ]
  },
  {
   "cell_type": "code",
   "execution_count": 3,
   "metadata": {},
   "outputs": [],
   "source": [
    "pulsar = \"J2043+1711\"\n",
    "h5File=\"/home/andrew/Documents/Research/nanograv/enterprise_timing/{}/ark_PAL2/{}_h5file.hdf5\".format(pulsar,pulsar)\n",
    "\n",
    "Niter = int(1e6)\n",
    "Neff = 5000\n",
    "resume = True"
   ]
  },
  {
   "cell_type": "code",
   "execution_count": 10,
   "metadata": {},
   "outputs": [],
   "source": [
    "nltm_timing_run_name = 'PAL2_nltm_ltm_noRN_varyWN_lin_DMX_FD_JUMP_etc_mark9_like_test_1'\n",
    "nltm_timing_outDir=\"/home/andrew/Documents/Research/nanograv/enterprise_timing/{}/ark_PAL2/{}\".format(pulsar,nltm_timing_run_name)\n",
    "PAL2_run_loc = \"/home/andrew/Documents/Research/nanograv/PAL2/PAL2/PAL2_run.py\"\n",
    "nltm_pars = \"PMELONG PMELAT PX SINI PB TASC A1 EPS1 EPS2 M2\""
   ]
  },
  {
   "cell_type": "code",
   "execution_count": 12,
   "metadata": {},
   "outputs": [
    {
     "name": "stdout",
     "output_type": "stream",
     "text": [
      "/home/andrew/miniconda2/envs/pal2/lib/python2.7/site-packages/h5py/_hl/dataset.py:313: H5pyDeprecationWarning: dataset.value has been deprecated. Use dataset[()] instead.\n",
      "  \"Use dataset[()] instead.\", H5pyDeprecationWarning)\n",
      "mark9\n",
      "\u001b[0m\u001b[1m[tempo2Util.C:396] \u001b[0m\u001b[0;35mWarning: \u001b[0m[MISC1] Unknown parameter in par file:  DMX\n",
      "\u001b[0m\u001b[1m[tempo2Util.C:401] \u001b[0m\u001b[0;35mWarning: \u001b[0m[DUP1] duplicated warnings have been suppressed.\n",
      "\u001b[0m\u001b[1m[tempo2Util.C:396] \u001b[0m\u001b[0;35mWarning: \u001b[0m[PAR2] Have not set a DM epoch. The period epoch will be used instead. /tmp/tmp3NVSQ8\n",
      "\u001b[0m\u001b[1m[tempo2Util.C:396] \u001b[0m\u001b[0;35mWarning: \u001b[0m[TIM1] Please place MODE flags in the parameter file \n",
      "Turning on fit for PMELONG\n",
      "Turning on fit for PMELAT\n",
      "Turning on fit for PX\n",
      "Turning on fit for SINI\n",
      "Turning on fit for PB\n",
      "Turning on fit for TASC\n",
      "Turning on fit for A1\n",
      "Turning on fit for EPS1\n",
      "Turning on fit for EPS2\n",
      "Turning on fit for M2\n",
      "Warning: Not varying red noise\n",
      "WARNING: Using seperate Tmax for each pulsar\n",
      "Requested to re-create the Auxiliaries\n",
      "Creating Auxiliaries for J2043+1711\n",
      "Numerically including ['PMELONG', 'PMELAT', 'PX', 'SINI', 'PB', 'A1', 'TASC', 'EPS1', 'EPS2', 'M2']\n",
      "Analytically marginalizing over ['Offset', 'ELONG', 'ELAT', 'F0', 'F1', 'FD1', 'DMX_0001', 'DMX_0002', 'DMX_0003', 'DMX_0004', 'DMX_0005', 'DMX_0006', 'DMX_0007', 'DMX_0008', 'DMX_0009', 'DMX_0010', 'DMX_0011', 'DMX_0012', 'DMX_0013', 'DMX_0014', 'DMX_0015', 'DMX_0016', 'DMX_0017', 'DMX_0018', 'DMX_0019', 'DMX_0020', 'DMX_0021', 'DMX_0022', 'DMX_0023', 'JUMP1']\n",
      "22 Free parameters\n",
      "Search Parameters: ['efac-430_PUPPI', 'efac-L-wide_PUPPI', 'efac-430_ASP', 'efac-L-wide_ASP', 'jitter_q-430_ASP', 'jitter_q-430_PUPPI', 'jitter_q-L-wide_ASP', 'jitter_q-L-wide_PUPPI', 'equad-430_PUPPI', 'equad-L-wide_PUPPI', 'equad-430_ASP', 'equad-L-wide_ASP', 'PMELONG', 'PMELAT', 'PX', 'SINI', 'PB', 'A1', 'TASC', 'EPS1', 'EPS2', 'M2']\n",
      "Running model with no GWB correlations\n",
      "[ 1.00000000e+00  1.00000000e+00  1.00000000e+00  1.00000000e+00\n",
      " -8.00000000e+00 -8.00000000e+00 -8.00000000e+00 -8.00000000e+00\n",
      " -8.00000000e+00 -8.00000000e+00 -8.00000000e+00 -8.00000000e+00\n",
      " -8.96980000e+00 -8.51540000e+00  7.77700000e-01  9.93240000e-01\n",
      "  1.48229079e+00  1.62395838e+00  5.61743062e+04 -4.25310000e-06\n",
      " -2.41540000e-06  1.72879000e-01]\n",
      "{'incCorrelations': False}\n",
      "13987.959253776526 19.616385918956269053\n",
      "[[0, 1, 2, 3, 4, 5, 6, 7, 8, 9, 10, 11, 12, 13, 14, 15, 16, 17, 18, 19, 20, 21], [0], [1], [2], [3], [8], [9], [10], [11], [4], [5], [6], [7], [12, 13, 14, 15, 16, 17, 18, 19, 20, 21]]\n",
      "ducks!\n",
      "/home/andrew/Documents/Research/nanograv/enterprise_timing/J2043+1711/ark_PAL2/PAL2_nltm_ltm_noRN_varyWN_lin_DMX_FD_JUMP_etc_mark9_like_test_1/PMELONG_grid_lnlike.npz\n",
      "/home/andrew/Documents/Research/nanograv/enterprise_timing/J2043+1711/ark_PAL2/PAL2_nltm_ltm_noRN_varyWN_lin_DMX_FD_JUMP_etc_mark9_like_test_1/PMELAT_grid_lnlike.npz\n",
      "/home/andrew/Documents/Research/nanograv/enterprise_timing/J2043+1711/ark_PAL2/PAL2_nltm_ltm_noRN_varyWN_lin_DMX_FD_JUMP_etc_mark9_like_test_1/PX_grid_lnlike.npz\n",
      "/home/andrew/Documents/Research/nanograv/enterprise_timing/J2043+1711/ark_PAL2/PAL2_nltm_ltm_noRN_varyWN_lin_DMX_FD_JUMP_etc_mark9_like_test_1/SINI_grid_lnlike.npz\n",
      "/home/andrew/Documents/Research/nanograv/enterprise_timing/J2043+1711/ark_PAL2/PAL2_nltm_ltm_noRN_varyWN_lin_DMX_FD_JUMP_etc_mark9_like_test_1/PB_grid_lnlike.npz\n",
      "/home/andrew/Documents/Research/nanograv/enterprise_timing/J2043+1711/ark_PAL2/PAL2_nltm_ltm_noRN_varyWN_lin_DMX_FD_JUMP_etc_mark9_like_test_1/A1_grid_lnlike.npz\n",
      "/home/andrew/Documents/Research/nanograv/enterprise_timing/J2043+1711/ark_PAL2/PAL2_nltm_ltm_noRN_varyWN_lin_DMX_FD_JUMP_etc_mark9_like_test_1/TASC_grid_lnlike.npz\n",
      "/home/andrew/Documents/Research/nanograv/enterprise_timing/J2043+1711/ark_PAL2/PAL2_nltm_ltm_noRN_varyWN_lin_DMX_FD_JUMP_etc_mark9_like_test_1/EPS1_grid_lnlike.npz\n",
      "/home/andrew/Documents/Research/nanograv/enterprise_timing/J2043+1711/ark_PAL2/PAL2_nltm_ltm_noRN_varyWN_lin_DMX_FD_JUMP_etc_mark9_like_test_1/EPS2_grid_lnlike.npz\n",
      "/home/andrew/Documents/Research/nanograv/enterprise_timing/J2043+1711/ark_PAL2/PAL2_nltm_ltm_noRN_varyWN_lin_DMX_FD_JUMP_etc_mark9_like_test_1/M2_grid_lnlike.npz\n",
      "Traceback (most recent call last):\n",
      "  File \"/home/andrew/Documents/Research/nanograv/PAL2/PAL2/PAL2_run.py\", line 1055, in <module>\n",
      "    print s\n",
      "NameError: name 's' is not defined\n"
     ]
    }
   ],
   "source": [
    "#Nonlinear Timing Model Run\n",
    "!python {PAL2_run_loc} --h5File {h5File} --outDir {nltm_timing_outDir} --mark9 --tmmodel 'nonlinear' \\\n",
    "--pulsar {pulsar} --incEquad --incJitterEquad --niter {Niter} --incTimingModel --addpars {nltm_pars} --resume --neff {Neff}"
   ]
  },
  {
   "cell_type": "code",
   "execution_count": null,
   "metadata": {},
   "outputs": [],
   "source": []
  }
 ],
 "metadata": {
  "kernelspec": {
   "display_name": "Python 2",
   "language": "python",
   "name": "python2"
  },
  "language_info": {
   "codemirror_mode": {
    "name": "ipython",
    "version": 2
   },
   "file_extension": ".py",
   "mimetype": "text/x-python",
   "name": "python",
   "nbconvert_exporter": "python",
   "pygments_lexer": "ipython2",
   "version": "2.7.18"
  }
 },
 "nbformat": 4,
 "nbformat_minor": 2
}
