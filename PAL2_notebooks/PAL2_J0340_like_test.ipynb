{
 "cells": [
  {
   "cell_type": "code",
   "execution_count": 1,
   "metadata": {},
   "outputs": [],
   "source": [
    "%load_ext autoreload\n",
    "%autoreload 2\n",
    "%matplotlib inline"
   ]
  },
  {
   "cell_type": "code",
   "execution_count": 2,
   "metadata": {},
   "outputs": [],
   "source": [
    "import os"
   ]
  },
  {
   "cell_type": "code",
   "execution_count": 3,
   "metadata": {},
   "outputs": [],
   "source": [
    "pulsar = \"J0340+4130\"\n",
    "h5File=\"/home/andrew/Documents/Research/nanograv/enterprise_timing/{}/ark_PAL2/{}_h5file.hdf5\".format(pulsar,pulsar)\n",
    "\n",
    "Niter = int(1e6)\n",
    "Neff = 5000\n",
    "resume = True"
   ]
  },
  {
   "cell_type": "markdown",
   "metadata": {},
   "source": [
    "# NonLinear+Linear TM"
   ]
  },
  {
   "cell_type": "code",
   "execution_count": 21,
   "metadata": {},
   "outputs": [],
   "source": [
    "nltm_timing_run_name = 'PAL2_nltm_ltm_noRN_varyWN_lin_DMX_FD_JUMP_etc_mark9_like_test_1'\n",
    "nltm_timing_outDir=\"/home/andrew/Documents/Research/nanograv/enterprise_timing/{}/ark_PAL2/{}\".format(pulsar,nltm_timing_run_name)\n",
    "PAL2_run_loc = \"/home/andrew/Documents/Research/nanograv/PAL2/PAL2/PAL2_run.py\""
   ]
  },
  {
   "cell_type": "code",
   "execution_count": 30,
   "metadata": {
    "scrolled": true
   },
   "outputs": [
    {
     "name": "stdout",
     "output_type": "stream",
     "text": [
      "/home/andrew/miniconda2/envs/pal2/lib/python2.7/site-packages/h5py/_hl/dataset.py:313: H5pyDeprecationWarning: dataset.value has been deprecated. Use dataset[()] instead.\n",
      "  \"Use dataset[()] instead.\", H5pyDeprecationWarning)\n",
      "(array([1.09282154]), array([0.37235683]))\n",
      "mark9\n",
      "\u001b[0m\u001b[1m[tempo2Util.C:396] \u001b[0m\u001b[0;35mWarning: \u001b[0m[MISC1] Unknown parameter in par file:  DMX\n",
      "\u001b[0m\u001b[1m[tempo2Util.C:401] \u001b[0m\u001b[0;35mWarning: \u001b[0m[DUP1] duplicated warnings have been suppressed.\n",
      "\u001b[0m\u001b[1m[tempo2Util.C:396] \u001b[0m\u001b[0;35mWarning: \u001b[0m[PAR1] Have not set a position epoch. The period epoch will be used instead. /tmp/tmpU7G1JL\n",
      "\u001b[0m\u001b[1m[tempo2Util.C:396] \u001b[0m\u001b[0;35mWarning: \u001b[0m[PAR2] Have not set a DM epoch. The period epoch will be used instead. /tmp/tmpU7G1JL\n",
      "\u001b[0m\u001b[1m[tempo2Util.C:396] \u001b[0m\u001b[0;35mWarning: \u001b[0m[TIM1] Please place MODE flags in the parameter file \n",
      "Warning: Not varying red noise\n",
      "WARNING: Using seperate Tmax for each pulsar\n",
      "Requested to re-create the Auxiliaries\n",
      "Creating Auxiliaries for J0340+4130\n",
      "('Numerically including', ['PMELONG', 'PMELAT', 'PX'])\n",
      "('Analytically marginalizing over', ['Offset', 'ELONG', 'ELAT', 'F0', 'F1', 'FD1', 'DMX_0001', 'DMX_0002', 'DMX_0003', 'DMX_0004', 'DMX_0005', 'DMX_0006', 'DMX_0007', 'DMX_0008', 'DMX_0009', 'DMX_0010', 'DMX_0011', 'DMX_0012', 'DMX_0013', 'DMX_0014', 'DMX_0015', 'DMX_0016', 'DMX_0017', 'DMX_0018', 'DMX_0019', 'DMX_0020', 'DMX_0021', 'DMX_0022', 'DMX_0023', 'DMX_0024', 'DMX_0025', 'DMX_0026', 'DMX_0027', 'JUMP1'])\n",
      "('More Shapes!', (3003, 94))\n",
      "9 Free parameters\n",
      "Search Parameters: ['efac-Rcvr1_2_GUPPI', 'efac-Rcvr_800_GUPPI', 'jitter_q-Rcvr1_2_GUPPI', 'jitter_q-Rcvr_800_GUPPI', 'equad-Rcvr1_2_GUPPI', 'equad-Rcvr_800_GUPPI', 'PMELONG', 'PMELAT', 'PX']\n",
      "Running model with no GWB correlations\n",
      "[ 1.      1.     -8.     -8.     -8.     -8.     -2.4185 -4.2499  0.6837]\n",
      "{'incCorrelations': False}\n",
      "ducks 2!\n",
      "/home/andrew/Documents/Research/nanograv/enterprise_timing/residual_checking/PAL2_PMELONG_grid_lnlike.npz\n",
      "savelike_1\n",
      "('Shapes!', (3003, 34), (3003, 94), (3003, 94), (3003, 60), (3003, 60))\n",
      "savelike_2\n",
      "savelike_3\n",
      "(94, 94)\n",
      "(94, 94)\n",
      "4826.799788804125\n",
      "ducks 3!\n",
      "/home/andrew/Documents/Research/nanograv/enterprise_timing/residual_checking/PAL2_PMELONG_grid_lnlike_in_lnlike.npz\n",
      "1\n",
      "28119.674870509174 -30.538716792088067\n",
      "ducks 2!\n",
      "/home/andrew/Documents/Research/nanograv/enterprise_timing/residual_checking/PAL2_PMELONG_grid_lnlike.npz\n",
      "savelike_1\n",
      "('Shapes!', (3003, 34), (3003, 94), (3003, 94), (3003, 60), (3003, 60))\n",
      "savelike_2\n",
      "savelike_3\n",
      "(94, 94)\n",
      "(94, 94)\n",
      "4826.799788804125\n",
      "ducks 3!\n",
      "/home/andrew/Documents/Research/nanograv/enterprise_timing/residual_checking/PAL2_PMELONG_grid_lnlike_in_lnlike.npz\n",
      "1\n",
      "[[0, 1, 2, 3, 4, 5, 6, 7, 8], [0], [1], [4], [5], [2], [3], [6, 7, 8]]\n",
      "ducks 1!\n",
      "-10.7325\n",
      "ducks 2!\n",
      "/home/andrew/Documents/Research/nanograv/enterprise_timing/residual_checking/PAL2_PMELONG_grid_lnlike.npz\n",
      "savelike_1\n",
      "('Shapes!', (3003, 34), (3003, 94), (3003, 94), (3003, 60), (3003, 60))\n",
      "savelike_2\n",
      "savelike_3\n",
      "(94, 94)\n",
      "(94, 94)\n",
      "4813.177448948238\n",
      "ducks 3!\n",
      "/home/andrew/Documents/Research/nanograv/enterprise_timing/residual_checking/PAL2_PMELONG_grid_lnlike_in_lnlike.npz\n",
      "1\n",
      "28086.201783599878\n",
      "Traceback (most recent call last):\n",
      "  File \"/home/andrew/Documents/Research/nanograv/PAL2/PAL2/PAL2_run.py\", line 1053, in <module>\n",
      "    print(s)\n",
      "NameError: name 's' is not defined\n"
     ]
    }
   ],
   "source": [
    "#Nonlinear Timing Model Run\n",
    "!python {PAL2_run_loc} --h5File {h5File} --outDir {nltm_timing_outDir} --mark9 --tmmodel 'nonlinear' \\\n",
    "--pulsar {pulsar} --incEquad --incJitterEquad --niter {Niter} --incTimingModel --addAllPars --resume --neff {Neff}"
   ]
  },
  {
   "cell_type": "markdown",
   "metadata": {},
   "source": [
    "# Full Nonlinear TM"
   ]
  },
  {
   "cell_type": "code",
   "execution_count": null,
   "metadata": {},
   "outputs": [],
   "source": [
    "full_timing_run_name = 'PAL2_nltm_ltm_noRN_varyWN_full_run_mark9_1'\n",
    "full_timing_outDir=\"/home/andrew/Documents/Research/nanograv/enterprise_timing/{}/ark_PAL2/{}\".format(pulsar,full_timing_run_name)\n",
    "PAL2_run_loc = \"/home/andrew/Documents/Research/nanograv/PAL2/PAL2/PAL2_run.py\"\n",
    "full_timing_outDir"
   ]
  },
  {
   "cell_type": "code",
   "execution_count": null,
   "metadata": {},
   "outputs": [],
   "source": [
    "#Timing Model Run\n",
    "!python {PAL2_run_loc} --h5File {h5File} --outDir {full_timing_outDir} --mark9 --tmmodel 'nonlinear' \\\n",
    "--pulsar {pulsar} --incEquad --incJitterEquad --niter {Niter} --incTimingModel --fullmodel --resume --neff {Neff}"
   ]
  },
  {
   "cell_type": "markdown",
   "metadata": {},
   "source": [
    "# Nonlinear+Linear TM, Resume Enterprise Chain"
   ]
  },
  {
   "cell_type": "code",
   "execution_count": null,
   "metadata": {},
   "outputs": [],
   "source": [
    "#enterprise resume run\n",
    "e_e_timing_run_name = 'J0340+4130_uniform_DE421_nltm_ltm_noRN_varyWN_lin_DMX_FD_JUMP_etc_500_sigma_in_PAL2_2'\n",
    "e_e_timing_outDir=\"/home/andrew/Documents/Research/nanograv/enterprise_timing/{}/ark_PAL2/{}\".format(pulsar,e_e_timing_run_name)\n",
    "PAL2_run_loc = \"/home/andrew/Documents/Research/nanograv/PAL2/PAL2/PAL2_run.py\""
   ]
  },
  {
   "cell_type": "code",
   "execution_count": null,
   "metadata": {},
   "outputs": [],
   "source": [
    "#Nonlinear Timing Model Run\n",
    "!python {PAL2_run_loc} --h5File {h5File} --outDir {e_e_timing_outDir} --mark9 --tmmodel 'nonlinear' \\\n",
    "--pulsar {pulsar} --incEquad --incJitterEquad --niter {Niter} --incTimingModel --addAllPars --resume --neff {Neff}"
   ]
  },
  {
   "cell_type": "code",
   "execution_count": null,
   "metadata": {},
   "outputs": [],
   "source": []
  }
 ],
 "metadata": {
  "kernelspec": {
   "display_name": "Python 3",
   "language": "python",
   "name": "python3"
  },
  "language_info": {
   "codemirror_mode": {
    "name": "ipython",
    "version": 2
   },
   "file_extension": ".py",
   "mimetype": "text/x-python",
   "name": "python",
   "nbconvert_exporter": "python",
   "pygments_lexer": "ipython2",
   "version": "2.7.18"
  }
 },
 "nbformat": 4,
 "nbformat_minor": 2
}
