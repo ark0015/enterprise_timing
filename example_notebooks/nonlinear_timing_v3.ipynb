{
 "cells": [
  {
   "cell_type": "code",
   "execution_count": 1,
   "metadata": {},
   "outputs": [],
   "source": [
    "%load_ext autoreload\n",
    "%autoreload 2"
   ]
  },
  {
   "cell_type": "code",
   "execution_count": 2,
   "metadata": {},
   "outputs": [],
   "source": [
    "from __future__ import division\n",
    "\n",
    "import numpy as np\n",
    "import glob, os, sys, pickle, json\n",
    "\n",
    "import enterprise\n",
    "from enterprise.pulsar import Pulsar\n",
    "from enterprise.signals import utils\n",
    "\n",
    "current_path = os.getcwd()\n",
    "splt_path = current_path.split(\"/\")\n",
    "top_path_idx = splt_path.index(\"nanograv\")\n",
    "#top_path_idx = splt_path.index(\"akaiser\")\n",
    "#top_path_idx = splt_path.index(\"ark0015\")\n",
    "top_dir = \"/\".join(splt_path[0 : top_path_idx + 1])\n",
    "\n",
    "e_e_path = top_dir + \"/enterprise_extensions/\"\n",
    "noise_path = top_dir + \"/pta_sim/pta_sim\"\n",
    "sys.path.insert(0, noise_path)\n",
    "sys.path.insert(0, e_e_path)\n",
    "import enterprise_extensions as e_e\n",
    "from enterprise_extensions import sampler\n",
    "from enterprise_extensions import models_2 as models\n",
    "from enterprise_extensions.sampler import JumpProposal\n",
    "import noise\n",
    "\n",
    "\"\"\"\n",
    "import arviz as az\n",
    "import warnings\n",
    "warnings.filterwarnings('ignore')\n",
    "\n",
    "import enterprise_extensions\n",
    "from enterprise_extensions import models, model_utils, timing\n",
    "from enterprise_extensions import sampler as ee_sampler\n",
    "\"\"\"\n",
    "from PTMCMCSampler.PTMCMCSampler import PTSampler as ptmcmc\n",
    "\n",
    "import la_forge.diagnostics as dg\n",
    "import la_forge.core as co\n",
    "import matplotlib.pyplot as plt\n",
    "%matplotlib inline"
   ]
  },
  {
   "cell_type": "code",
   "execution_count": 3,
   "metadata": {},
   "outputs": [],
   "source": [
    "psrlist = [\"J0740+6620\"]\n",
    "datarelease = '11yr'\n",
    "tm_prior = \"uniform\"\n",
    "ephem = 'DE436'\n",
    "white_var = True\n",
    "red_var = True\n",
    "\n",
    "run_num = 1\n",
    "resume = False\n",
    "N = int(1e4)\n",
    "\n",
    "coefficients = False\n",
    "tm_var=True\n",
    "nltm_plus_ltm = False\n",
    "exclude = True\n",
    "tm_linear=True\n",
    "\n",
    "writeHotChains = False\n",
    "reallyHotChain = False"
   ]
  },
  {
   "cell_type": "code",
   "execution_count": 4,
   "metadata": {},
   "outputs": [],
   "source": [
    "datadir = top_dir + \"/{}\".format(datarelease)\n",
    "\n",
    "parfiles = sorted(glob.glob(datadir + \"/par/*.par\"))\n",
    "timfiles = sorted(glob.glob(datadir + \"/tim/*.tim\"))\n",
    "# filter\n",
    "parfiles = [\n",
    "    x for x in parfiles if x.split(\"/\")[-1].split(\".\")[0].split(\"_\")[0] in psrlist\n",
    "]\n",
    "timfiles = [\n",
    "    x for x in timfiles if x.split(\"/\")[-1].split(\".\")[0].split(\"_\")[0] in psrlist\n",
    "]"
   ]
  },
  {
   "cell_type": "code",
   "execution_count": 5,
   "metadata": {},
   "outputs": [
    {
     "name": "stderr",
     "output_type": "stream",
     "text": [
      "WARNING: enterprise.pulsar: WARNING: Could not find pulsar distance for PSR J0740+6620. Setting value to 1 with 20% uncertainty.\n"
     ]
    }
   ],
   "source": [
    "psrs = []\n",
    "for p, t in zip(parfiles, timfiles):\n",
    "    psr = Pulsar(p, t, ephem=ephem, clk=None, drop_t2pulsar=False)\n",
    "    psrs.append(psr)"
   ]
  },
  {
   "cell_type": "code",
   "execution_count": 6,
   "metadata": {},
   "outputs": [],
   "source": [
    "noisedict = {}\n",
    "if datarelease in ['12p5yr']:\n",
    "    noisefiles = sorted(glob.glob(top_dir + '/{}/*.json'.format(datarelease)))\n",
    "    for noisefile in noisefiles:\n",
    "        tmpnoisedict = {}\n",
    "        with open(noisefile, 'r') as fin:\n",
    "            tmpnoisedict.update(json.load(fin))\n",
    "        for key in tmpnoisedict.keys():\n",
    "            if key.split('_')[0] in psrlist:\n",
    "                noisedict[key] = tmpnoisedict[key]\n",
    "else:\n",
    "    noisefiles = sorted(glob.glob(datadir + \"/noisefiles/*.txt\"))\n",
    "    for noisefile in noisefiles:\n",
    "        tmpnoisedict = {}\n",
    "        tmpnoisedict = au.get_noise_from_file(noisefile)\n",
    "        for og_key in tmpnoisedict.keys():\n",
    "            split_key = og_key.split('_')\n",
    "            psr_name = split_key[0]\n",
    "            if psr_name in psrlist:\n",
    "                if datarelease in ['5yr']:\n",
    "                    param = \"_\".join(split_key[1:])\n",
    "                    new_key = \"_\".join([psr_name,\"_\".join(param.split(\"-\"))])\n",
    "                    noisedict[new_key] = tmpnoisedict[og_key]\n",
    "                else:\n",
    "                    noisedict[og_key] = tmpnoisedict[og_key]"
   ]
  },
  {
   "cell_type": "code",
   "execution_count": 7,
   "metadata": {},
   "outputs": [],
   "source": [
    "if nltm_plus_ltm:\n",
    "    outdir = current_path + \"/chains/{}/\".format(datarelease) + psrlist[0] +\\\n",
    "     \"_{}_{}_nltm_ltm_{}\".format(\"_\".join(tm_prior.split('-')),ephem,run_num)\n",
    "else:\n",
    "    outdir = current_path + \"/chains/{}/\".format(datarelease) + psrlist[0] +\\\n",
    "    \"_{}_{}_tm_{}\".format(\"_\".join(tm_prior.split('-')),ephem,run_num)\n",
    "\n",
    "#if os.path.isdir(outdir) and not resume:\n",
    "#    raise ValueError('{} already exists!'.format(outdir))"
   ]
  },
  {
   "cell_type": "code",
   "execution_count": 8,
   "metadata": {},
   "outputs": [
    {
     "name": "stdout",
     "output_type": "stream",
     "text": [
      "Using linear approximation for all timing parameters.\n",
      "Using  uniform  prior.\n"
     ]
    }
   ],
   "source": [
    "tm_params_nodmx = []\n",
    "ltm_exclude_list=[]\n",
    "for psr in psrs:\n",
    "    for par in psr.fitpars:\n",
    "        if \"DMX\" in [\"\".join(list(x)[0:3]) for x in par.split(\"_\")][0]:\n",
    "            pass\n",
    "        elif \"FD\" in [\"\".join(list(x)[0:2]) for x in par.split(\"_\")][0]:\n",
    "            pass\n",
    "        elif \"JUMP\" in [\"\".join(list(x)[0:4]) for x in par.split(\"_\")][0]:\n",
    "            pass\n",
    "        elif par in [\"Offset\",\"TASC\"]:\n",
    "            pass\n",
    "        elif par in [\"RAJ\", \"DECJ\", \"ELONG\", \"ELAT\", \"BETA\", \"LAMBDA\"]:\n",
    "            ltm_exclude_list.append(par)\n",
    "        elif par in [\"F0\"]:\n",
    "            ltm_exclude_list.append(par)\n",
    "        #elif par in [\"PMRA\", \"PMDEC\", \"PMELONG\", \"PMELAT\", \"PMBETA\", \"PMLAMBDA\"]:\n",
    "        #    pass\n",
    "        else:\n",
    "            tm_params_nodmx.append(par)\n",
    "\n",
    "tm_param_list = tm_params_nodmx\n",
    "if not tm_linear and tm_var:\n",
    "    print(\"Non-linearly varying these values: \", tm_param_list, \"\\n in pulsar \", psrlist[0])\n",
    "elif tm_linear and tm_var:\n",
    "    print(\"Using linear approximation for all timing parameters.\")\n",
    "else:\n",
    "    print('Not varying timing parameters.')\n",
    "\n",
    "if nltm_plus_ltm:\n",
    "    if exclude:\n",
    "        ltm_exclude_list=tm_param_list\n",
    "        print(\"Linearly varying everything but these values: \", ltm_exclude_list, \"\\n in pulsar \", psrlist[0])\n",
    "    else:\n",
    "        print(\"Linearly varying only these values: \", ltm_exclude_list, \"\\n in pulsar \", psrlist[0])\n",
    "\n",
    "print(\"Using \",tm_prior,\" prior.\")"
   ]
  },
  {
   "cell_type": "code",
   "execution_count": 9,
   "metadata": {},
   "outputs": [
    {
     "ename": "NameError",
     "evalue": "name 'au' is not defined",
     "output_type": "error",
     "traceback": [
      "\u001b[0;31m---------------------------------------------------------------------------\u001b[0m",
      "\u001b[0;31mNameError\u001b[0m                                 Traceback (most recent call last)",
      "\u001b[0;32m<ipython-input-9-01c8b0d10c84>\u001b[0m in \u001b[0;36m<module>\u001b[0;34m\u001b[0m\n\u001b[0;32m----> 1\u001b[0;31m pta = au.model_nltm(\n\u001b[0m\u001b[1;32m      2\u001b[0m     \u001b[0mpsrs\u001b[0m\u001b[0;34m,\u001b[0m\u001b[0;34m\u001b[0m\u001b[0;34m\u001b[0m\u001b[0m\n\u001b[1;32m      3\u001b[0m     \u001b[0mtm_var\u001b[0m\u001b[0;34m=\u001b[0m\u001b[0mtm_var\u001b[0m\u001b[0;34m,\u001b[0m\u001b[0;34m\u001b[0m\u001b[0;34m\u001b[0m\u001b[0m\n\u001b[1;32m      4\u001b[0m     \u001b[0mtm_linear\u001b[0m\u001b[0;34m=\u001b[0m\u001b[0mtm_linear\u001b[0m\u001b[0;34m,\u001b[0m\u001b[0;34m\u001b[0m\u001b[0;34m\u001b[0m\u001b[0m\n\u001b[1;32m      5\u001b[0m     \u001b[0mtm_param_list\u001b[0m\u001b[0;34m=\u001b[0m\u001b[0mtm_param_list\u001b[0m\u001b[0;34m,\u001b[0m\u001b[0;34m\u001b[0m\u001b[0;34m\u001b[0m\u001b[0m\n",
      "\u001b[0;31mNameError\u001b[0m: name 'au' is not defined"
     ]
    }
   ],
   "source": [
    "pta = au.model_nltm(\n",
    "    psrs,\n",
    "    tm_var=tm_var,\n",
    "    tm_linear=tm_linear,\n",
    "    tm_param_list=tm_param_list,\n",
    "    ltm_exclude_list=ltm_exclude_list,\n",
    "    exclude = exclude,\n",
    "    tm_param_dict={},\n",
    "    tm_prior=tm_prior,\n",
    "    nltm_plus_ltm = nltm_plus_ltm,\n",
    "    common_psd=\"powerlaw\",\n",
    "    red_psd=\"powerlaw\",\n",
    "    orf=None,\n",
    "    common_var=False,\n",
    "    common_components=30,\n",
    "    red_components=30,\n",
    "    dm_components=30,\n",
    "    modes=None,\n",
    "    wgts=None,\n",
    "    logfreq=False,\n",
    "    nmodes_log=10,\n",
    "    noisedict=noisedict,\n",
    "    tm_svd=False,\n",
    "    tm_norm=True,\n",
    "    gamma_common=None,\n",
    "    upper_limit=False,\n",
    "    upper_limit_red=None,\n",
    "    upper_limit_dm=None,\n",
    "    upper_limit_common=None,\n",
    "    bayesephem=False,\n",
    "    be_type=\"orbel\",\n",
    "    wideband=False,\n",
    "    dm_var=False,\n",
    "    dm_type=\"gp\",\n",
    "    dm_psd=\"powerlaw\",\n",
    "    dm_annual=False,\n",
    "    white_vary=white_var,\n",
    "    gequad=False,\n",
    "    dm_chrom=False,\n",
    "    dmchrom_psd=\"powerlaw\",\n",
    "    dmchrom_idx=4,\n",
    "    red_var=red_var,\n",
    "    red_select=None,\n",
    "    red_breakflat=False,\n",
    "    red_breakflat_fq=None,\n",
    "    coefficients=coefficients,\n",
    ")"
   ]
  },
  {
   "cell_type": "code",
   "execution_count": null,
   "metadata": {},
   "outputs": [],
   "source": [
    "# dimension of parameter space\n",
    "params = pta.param_names\n",
    "ndim = len(params)\n",
    "\n",
    "# initial jump covariance matrix\n",
    "cov = np.diag(np.ones(ndim) * 0.1 ** 2)"
   ]
  },
  {
   "cell_type": "code",
   "execution_count": null,
   "metadata": {},
   "outputs": [],
   "source": [
    "# parameter groupings\n",
    "groups = sampler.get_parameter_groups(pta)\n",
    "tm_groups = au.get_timing_groups(pta)\n",
    "for tm_group in tm_groups:\n",
    "    groups.append(tm_group)\n",
    "\n",
    "wn_pars = ['ecorr','equad','efac']\n",
    "groups.append(sampler.group_from_params(pta, wn_pars))"
   ]
  },
  {
   "cell_type": "code",
   "execution_count": null,
   "metadata": {},
   "outputs": [],
   "source": [
    "psampler = ptmcmc(\n",
    "    ndim,\n",
    "    pta.get_lnlikelihood,\n",
    "    pta.get_lnprior,\n",
    "    cov,\n",
    "    groups=groups,\n",
    "    outDir=outdir,\n",
    "    resume=resume,\n",
    ")"
   ]
  },
  {
   "cell_type": "code",
   "execution_count": null,
   "metadata": {},
   "outputs": [],
   "source": [
    "np.savetxt(outdir + \"/pars.txt\", list(map(str, pta.param_names)), fmt=\"%s\")\n",
    "np.savetxt(\n",
    "    outdir + \"/priors.txt\",\n",
    "    list(map(lambda x: str(x.__repr__()), pta.params)),\n",
    "    fmt=\"%s\",\n",
    ")"
   ]
  },
  {
   "cell_type": "code",
   "execution_count": null,
   "metadata": {},
   "outputs": [],
   "source": [
    "if tm_var and not tm_linear:\n",
    "    jp = JumpProposal(pta)\n",
    "    psampler.addProposalToCycle(jp.draw_from_signal(\"non_linear_timing_model\"), 30)\n",
    "    for p in pta.params:\n",
    "        for cat in [\"pos\", \"pm\", \"spin\", \"kep\", \"gr\"]:\n",
    "            if cat in p.name.split(\"_\"):\n",
    "                psampler.addProposalToCycle(jp.draw_from_par_prior(p.name), 30)"
   ]
  },
  {
   "cell_type": "code",
   "execution_count": null,
   "metadata": {},
   "outputs": [],
   "source": [
    "tmp = True\n",
    "#if coefficients:\n",
    "\"\"\"if tmp:\n",
    "    x0_dict = {}\n",
    "    cpar = []\n",
    "    for p in pta.params:\n",
    "        print(p)\n",
    "        if \"coefficients\" in p.name:\n",
    "            cpar.append(p)\n",
    "        else:\n",
    "            x0_dict.update({p.name:p.sample()})\n",
    "\n",
    "    pr2 = cpar[0].get_logpdf(params=x0_dict)\n",
    "    print(pr2)\n",
    "    psc = utils.get_coefficients(pta, x0_dict)\n",
    "    print(psc)\"\"\"\n",
    "if coefficients:\n",
    "    x0_list = []\n",
    "    for p in pta.params:\n",
    "        if \"coefficients\" not in p.name:\n",
    "            x0_list.append(p.sample())\n",
    "    x0 = np.asarray(x0_list)\n",
    "else:\n",
    "    x0 = np.hstack([p.sample() for p in pta.params])"
   ]
  },
  {
   "cell_type": "code",
   "execution_count": null,
   "metadata": {},
   "outputs": [],
   "source": [
    "psampler.sample(x0, N, SCAMweight=30, AMweight=15, DEweight=50,\n",
    "    writeHotChains=writeHotChains,hotChain=reallyHotChain)"
   ]
  },
  {
   "cell_type": "code",
   "execution_count": null,
   "metadata": {},
   "outputs": [],
   "source": [
    "core=co.Core(label=outdir.split('/')[-1], chaindir=outdir)"
   ]
  },
  {
   "cell_type": "code",
   "execution_count": null,
   "metadata": {},
   "outputs": [],
   "source": [
    "dg.plot_chains(core)"
   ]
  },
  {
   "cell_type": "code",
   "execution_count": null,
   "metadata": {},
   "outputs": [],
   "source": []
  }
 ],
 "metadata": {
  "kernelspec": {
   "display_name": "Python 3",
   "language": "python",
   "name": "python3"
  },
  "language_info": {
   "codemirror_mode": {
    "name": "ipython",
    "version": 3
   },
   "file_extension": ".py",
   "mimetype": "text/x-python",
   "name": "python",
   "nbconvert_exporter": "python",
   "pygments_lexer": "ipython3",
   "version": "3.7.9"
  }
 },
 "nbformat": 4,
 "nbformat_minor": 2
}
