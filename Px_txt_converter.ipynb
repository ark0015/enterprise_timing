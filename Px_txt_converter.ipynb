{
 "cells": [
  {
   "cell_type": "code",
   "execution_count": 1,
   "metadata": {},
   "outputs": [],
   "source": [
    "from collections import defaultdict\n",
    "import numpy as np\n",
    "import json"
   ]
  },
  {
   "cell_type": "code",
   "execution_count": 2,
   "metadata": {},
   "outputs": [],
   "source": [
    "f = np.loadtxt('Parallaxes.txt', dtype = 'str', delimiter = '\\n')"
   ]
  },
  {
   "cell_type": "code",
   "execution_count": 3,
   "metadata": {},
   "outputs": [
    {
     "name": "stdout",
     "output_type": "stream",
     "text": [
      "dict_keys(['J0030+0451', 'J0034-0721', 'J0040+5716', 'J0045-7319', 'J0055+5117', 'J0102+6537', 'J0108-1431', 'J0108+6608', 'J0139+5814', 'J0147+5922', 'J0151-0635', 'J0152-1637', 'J0157+6212', 'J0218+4232', 'J0323+3944', 'J0332+5434', 'J0335+4555', 'J0337+1715', 'J0357+5236', 'J0358+5413', 'J0406+6138', 'J0437-4715', 'J0452-1759', 'J0454+5543', 'J0538+2817', 'J0601-0527', 'J0613-0200', 'J0614+2229', 'J0629+2415', 'J0630-2834', 'J0633+1746', 'J0636+5129', 'J0645+5158', 'J0659+1414', 'J0720-3125', 'J0729-1836', 'J0737-3039A/B', 'J0751+1807', 'J0814+7429', 'J0820-1350', 'J0823+0159', 'J0826+2637', 'J0835-4510', 'J0922+0638', 'J0953+0755', 'J1012+5307', 'J1017-7156', 'J1022+1001', 'J1023+0038', 'J1024-0719', 'J1045-4509', 'J1048+2339', 'J1136+1551', 'J1227-4853', 'J1239+2453', 'J1257-1027', 'J1300+1240', 'J1302-6350', 'J1321+8323', 'J1417-4402', 'J1431-4715', 'J1455-3330', 'J1456-6843', 'J1509+5531', 'J1532+2745', 'J1537+1155', 'J1543+0929', 'J1543-0620', 'J1559-4438', 'J1600-3053', 'J1607-0032', 'J1614-2230', 'J1623-0908', 'J1628-3205', 'J1643-1224', 'J1645-0317', 'J1650-1654', 'J1703-1846', 'J1713+0747', 'J1723-2837', 'J1730-2304', 'J1735-0724', 'J1738+0333', 'J1741-0840', 'J1744-1134', 'J1754+5201', 'J1810+1744', 'J1816+4510', 'J1820-0427', 'J1833-0338', 'J1840+5640', 'J1856-3754', 'J1853+1303', 'J1857+0943', 'J1900-2600', 'J1901-0906', 'J1909-3744', 'J1912+2104', 'J1913+1400', 'J1917+1353', 'J1919+0021', 'J1932+1059', 'J1935+1616', 'J1937+2544', 'J1939+2134', 'J1957+2516', 'J2006-0807', 'J2010-1323', 'J2017+0603', 'J2018+2839', 'J2022+2854', 'J2022+5154', 'J2032+4127', 'J2046+1540', 'J2046-0421', 'J2048-1616', 'J2055+3630', 'J2113+2754', 'J2113+4644', 'J2124-3358', 'J2129-5721', 'J2144-3933', 'J2145-0750', 'J2149+6329', 'J2150+5247', 'J2157+4017', 'J2212+2933', 'J2214+3000', 'J2215+5135', 'J2222-0137', 'J2225+6535', 'J2248-0101', 'J2305+3100', 'J2313+4253', 'J2317+1439', 'J2317+2149', 'J2325+6316', 'J2339-0533', 'J2346-0609', 'J2354+6155'])\n"
     ]
    }
   ],
   "source": [
    "px_dict = {}\n",
    "old_name = 'None'\n",
    "new_name = 'New None'\n",
    "for x in f:\n",
    "    split_1 = x.split(' ')\n",
    "    if split_1[0] == '!!psr':\n",
    "        old_name = new_name\n",
    "        \n",
    "    if split_1[0] == 'JName':\n",
    "        new_name = split_1[-1]\n",
    "        px_dict[split_1[-1]] = defaultdict(list)\n",
    "        \n",
    "    if old_name != new_name:\n",
    "        if split_1[0] == 'BName':\n",
    "            if split_1[-1] != '=':\n",
    "                px_dict[new_name][split_1[0]] = split_1[-1]\n",
    "            else:\n",
    "                px_dict[new_name][split_1[0]] = 'None'\n",
    "\n",
    "        if 'PI' not in px_dict[new_name].keys():\n",
    "            if split_1[0] in ['PI','eplus','eminus','RefURL']:\n",
    "                px_dict[new_name][split_1[0]] = [split_1[-1]]\n",
    "            elif split_1[0] == 'Refname':\n",
    "                px_dict[new_name][split_1[0]] = [(' ').join(split_1[2:])]\n",
    "            elif split_1[0] == 'Method':\n",
    "                px_dict[new_name][split_1[0]] = [(' ').join(split_1[3:])]\n",
    "        else:\n",
    "            if split_1[0] in ['PI','eplus','eminus','RefURL']:\n",
    "                px_dict[new_name][split_1[0]].append(split_1[-1])\n",
    "            elif split_1[0] == 'Refname':\n",
    "                px_dict[new_name][split_1[0]].append((' ').join(split_1[2:]))\n",
    "            elif split_1[0] == 'Method':\n",
    "                px_dict[new_name][split_1[0]].append((' ').join(split_1[3:]))\n",
    "\n",
    "print(px_dict.keys())"
   ]
  },
  {
   "cell_type": "code",
   "execution_count": null,
   "metadata": {},
   "outputs": [],
   "source": [
    "with open('parallaxes.json', 'w') as fp:\n",
    "    json.dump(px_dict, fp, sort_keys=True, indent=4)"
   ]
  }
 ],
 "metadata": {
  "kernelspec": {
   "display_name": "Python 3",
   "language": "python",
   "name": "python3"
  },
  "language_info": {
   "codemirror_mode": {
    "name": "ipython",
    "version": 3
   },
   "file_extension": ".py",
   "mimetype": "text/x-python",
   "name": "python",
   "nbconvert_exporter": "python",
   "pygments_lexer": "ipython3",
   "version": "3.6.10"
  }
 },
 "nbformat": 4,
 "nbformat_minor": 4
}
