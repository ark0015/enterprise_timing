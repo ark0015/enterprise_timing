{
 "cells": [
  {
   "cell_type": "code",
   "execution_count": 1,
   "metadata": {},
   "outputs": [],
   "source": [
    "%matplotlib inline\n",
    "%config InlineBackend.figure_format = 'retina'\n",
    "%load_ext autoreload\n",
    "%autoreload 2"
   ]
  },
  {
   "cell_type": "code",
   "execution_count": 3,
   "metadata": {},
   "outputs": [],
   "source": [
    "import numpy as np\n",
    "import glob, time, pickle, os, sys\n",
    "from scipy.stats import chi2\n",
    "import astropy.units as u\n",
    "\n",
    "import enterprise\n",
    "from enterprise.pulsar import Pulsar\n",
    "from enterprise.signals import parameter, gp_signals, utils, signal_base\n",
    "\n",
    "import enterprise_extensions as e_e\n",
    "from enterprise_extensions import model_utils, blocks, deterministic\n",
    "from enterprise_extensions.frequentist import F_statistic"
   ]
  },
  {
   "cell_type": "code",
   "execution_count": 5,
   "metadata": {},
   "outputs": [],
   "source": [
    "current_path = os.getcwd()\n",
    "splt_path = current_path.split(\"/\")\n",
    "top_path_idx = splt_path.index(\"akaiser\")\n",
    "#top_path_idx = splt_path.index(\"nanograv\")\n",
    "#top_path_idx = splt_path.index(\"ark0015\")\n",
    "top_dir = \"/\".join(splt_path[0 : top_path_idx + 1])\n",
    "\n",
    "noise_path = top_dir + \"/pta_sim/pta_sim\"\n",
    "sys.path.insert(0, noise_path)\n",
    "import noise"
   ]
  },
  {
   "cell_type": "code",
   "execution_count": 6,
   "metadata": {},
   "outputs": [],
   "source": [
    "datarelease = '11yr'\n",
    "save_dir = './results_v2/{}'.format(datarelease)\n",
    "psr_obj_file = './eleven_yr_psr_objects_v4.pickle'\n",
    "load_from_file = False\n",
    "save_to_file = True\n",
    "save_version = '3_svsetup'\n",
    "n_freq_max = 1\n",
    "\n",
    "datadir = top_dir + \"/{}\".format(datarelease)\n",
    "parfiles = sorted(glob.glob(datadir + \"/par/*.par\"))\n",
    "timfiles = sorted(glob.glob(datadir + \"/tim/*.tim\"))\n",
    "noisefiles = sorted(glob.glob(datadir + \"/noisefiles/*.txt\"))\n",
    "\n",
    "eleven_yr_psr_list = datadir + '/psrlist_Tg3yr.txt'\n",
    "eleven_yr_psrs = [line.rstrip('\\n') for line in open(eleven_yr_psr_list,'r')]"
   ]
  },
  {
   "cell_type": "code",
   "execution_count": 7,
   "metadata": {},
   "outputs": [],
   "source": [
    "for parfile in parfiles:\n",
    "    if 'J1713+0747' in parfile.split('/')[-1].split('_'):\n",
    "        if 't2' in parfile.split('/')[-1].split('.'):\n",
    "            parfiles.remove(parfile)"
   ]
  },
  {
   "cell_type": "code",
   "execution_count": 8,
   "metadata": {},
   "outputs": [],
   "source": [
    "noisedict = {}\n",
    "for noisefile in noisefiles:\n",
    "    tmpnoisedict = {}\n",
    "    tmpnoisedict = noise.get_noise_from_file(noisefile)\n",
    "    for og_key in tmpnoisedict.keys():\n",
    "        #split_key = og_key.split('_')\n",
    "        #psr_name = split_key[0]\n",
    "        #param = \"_\".join(split_key[1:])\n",
    "        #new_key = \"_\".join([psr_name,\"_\".join(param.split(\"-\"))])\n",
    "        if og_key.split('_')[0] in eleven_yr_psrs:\n",
    "            noisedict[og_key] = tmpnoisedict[og_key]"
   ]
  },
  {
   "cell_type": "code",
   "execution_count": 9,
   "metadata": {},
   "outputs": [],
   "source": [
    "noisedict_gp_ecorr = {}\n",
    "for key,value in noisedict.items():\n",
    "    if '-' in str(key.split('_')[1:]):\n",
    "        new_key = key.split('_')[0] + '_' + '_'.join('_'.join(key.split('_')[1:]).split('-'))\n",
    "    else:\n",
    "        new_key = key\n",
    "        \n",
    "    if 'ecorr' in new_key.split('_'):\n",
    "        \n",
    "        split_key = new_key.split('_')\n",
    "        #new_key = '_'.join(split_key[:-3]) + '_basis_ecorr_' + '_'.join(split_key[-2:])\n",
    "        #new_key = '_'.join(split_key[:-3]) + '_basis_ecorr'\n",
    "        new_key = split_key[0] + '_basis_ecorr_' + '_'.join(split_key[1:])\n",
    "        \n",
    "    noisedict_gp_ecorr[new_key] = value"
   ]
  },
  {
   "cell_type": "code",
   "execution_count": 14,
   "metadata": {},
   "outputs": [
    {
     "name": "stdout",
     "output_type": "stream",
     "text": [
      "B1855+09_430_PUPPI_efac :  1.11896\n",
      "B1855+09_L-wide_PUPPI_efac :  1.38104\n",
      "B1855+09_430_ASP_efac :  1.16587\n",
      "B1855+09_L-wide_ASP_efac :  1.08538\n",
      "B1855+09_430_ASP_log10_ecorr :  -8.47348\n",
      "B1855+09_430_PUPPI_log10_ecorr :  -6.31096\n",
      "B1855+09_L-wide_ASP_log10_ecorr :  -6.09208\n",
      "B1855+09_L-wide_PUPPI_log10_ecorr :  -6.401\n",
      "B1855+09_430_PUPPI_log10_equad :  -6.17415\n",
      "B1855+09_L-wide_PUPPI_log10_equad :  -6.53715\n",
      "B1855+09_430_ASP_log10_equad :  -7.93502\n",
      "B1855+09_L-wide_ASP_log10_equad :  -6.51038\n",
      "B1855+09_red_noise_log10_A :  -13.8022\n",
      "B1855+09_red_noise_gamma :  3.63368\n"
     ]
    }
   ],
   "source": [
    "for key, val in noisedict.items():\n",
    "    if key.split('_')[0] == 'B1855+09':\n",
    "        print(key,': ',val)\n",
    "#print(noisedict.keys())"
   ]
  },
  {
   "cell_type": "code",
   "execution_count": null,
   "metadata": {},
   "outputs": [],
   "source": []
  }
 ],
 "metadata": {
  "kernelspec": {
   "display_name": "Python 3",
   "language": "python",
   "name": "python3"
  },
  "language_info": {
   "codemirror_mode": {
    "name": "ipython",
    "version": 3
   },
   "file_extension": ".py",
   "mimetype": "text/x-python",
   "name": "python",
   "nbconvert_exporter": "python",
   "pygments_lexer": "ipython3",
   "version": "3.6.10"
  }
 },
 "nbformat": 4,
 "nbformat_minor": 4
}
